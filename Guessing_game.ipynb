{
 "cells": [
  {
   "cell_type": "markdown",
   "id": "1f6640c9",
   "metadata": {},
   "source": [
    "# Guessing Game"
   ]
  },
  {
   "cell_type": "code",
   "execution_count": 1,
   "id": "65bc8a73",
   "metadata": {},
   "outputs": [],
   "source": [
    "import random"
   ]
  },
  {
   "cell_type": "code",
   "execution_count": 4,
   "id": "36b57365",
   "metadata": {},
   "outputs": [
    {
     "data": {
      "text/plain": [
       "57"
      ]
     },
     "execution_count": 4,
     "metadata": {},
     "output_type": "execute_result"
    }
   ],
   "source": [
    "random.randint(1,100)"
   ]
  },
  {
   "cell_type": "code",
   "execution_count": 10,
   "id": "7fe10f30",
   "metadata": {},
   "outputs": [
    {
     "name": "stdout",
     "output_type": "stream",
     "text": [
      "Guess Number20\n",
      "Guess Higher\n",
      "Guess Number50\n",
      "Guess Higher\n",
      "Guess Number60\n",
      "Guess Higher\n",
      "Guess Number70\n",
      "Guess Lower\n",
      "Guess Number65\n",
      "Guess Lower\n",
      "Guess Number60\n",
      "Guess Higher\n",
      "Guess Number69\n",
      "Guess Lower\n",
      "Guess Number68\n",
      "Guess Lower\n",
      "Guess Number65\n",
      "Guess Lower\n",
      "Guess Number64\n",
      "Guess Lower\n",
      "Guess Number63\n",
      "Guess Lower\n",
      "Guess Number62\n",
      "Guess Lower\n",
      "Guess Number60\n",
      "Guess Higher\n",
      "Guess Number62\n",
      "Guess Lower\n",
      "Guess Number61\n",
      "Correct guess 15\n"
     ]
    }
   ],
   "source": [
    "import random\n",
    "jackpot = random.randint(1,100)\n",
    "guess = int(input(\"Guess Number\"))\n",
    "\n",
    "counter =1\n",
    "while guess != jackpot:\n",
    "    if guess < jackpot:\n",
    "        print(\"Guess Higher\")\n",
    "    else:\n",
    "        print(\"Guess Lower\")\n",
    "        \n",
    "    guess = int(input(\"Guess Number\"))\n",
    "    counter +=1\n",
    "print(\"Correct guess\", counter)\n",
    "    \n",
    "    "
   ]
  }
 ],
 "metadata": {
  "kernelspec": {
   "display_name": "Python 3 (ipykernel)",
   "language": "python",
   "name": "python3"
  },
  "language_info": {
   "codemirror_mode": {
    "name": "ipython",
    "version": 3
   },
   "file_extension": ".py",
   "mimetype": "text/x-python",
   "name": "python",
   "nbconvert_exporter": "python",
   "pygments_lexer": "ipython3",
   "version": "3.10.1"
  }
 },
 "nbformat": 4,
 "nbformat_minor": 5
}
