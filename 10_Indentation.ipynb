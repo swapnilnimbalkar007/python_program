{
 "cells": [
  {
   "cell_type": "markdown",
   "id": "4351f9db",
   "metadata": {},
   "source": [
    "# Indentation"
   ]
  },
  {
   "cell_type": "markdown",
   "id": "1a5cf23f",
   "metadata": {},
   "source": [
    "# Indentation is only use in python because need to increase code redebility"
   ]
  },
  {
   "cell_type": "markdown",
   "id": "1fd22755",
   "metadata": {},
   "source": [
    "# Don't Use Space or Brackets"
   ]
  },
  {
   "cell_type": "code",
   "execution_count": 4,
   "id": "ead23d83",
   "metadata": {},
   "outputs": [
    {
     "name": "stdout",
     "output_type": "stream",
     "text": [
      "line 3\n"
     ]
    }
   ],
   "source": [
    "name = \"Swapnil\"\n",
    "if name == \"XYZ\":\n",
    "    print('line 1')\n",
    "    print('line 2')\n",
    "else:\n",
    "    print('line 3')"
   ]
  },
  {
   "cell_type": "code",
   "execution_count": 6,
   "id": "db950e24",
   "metadata": {
    "scrolled": true
   },
   "outputs": [
    {
     "ename": "IndentationError",
     "evalue": "expected an indented block after 'if' statement on line 2 (4130962998.py, line 3)",
     "output_type": "error",
     "traceback": [
      "\u001b[1;36m  Cell \u001b[1;32mIn[6], line 3\u001b[1;36m\u001b[0m\n\u001b[1;33m    print(\"Hii\")\u001b[0m\n\u001b[1;37m    ^\u001b[0m\n\u001b[1;31mIndentationError\u001b[0m\u001b[1;31m:\u001b[0m expected an indented block after 'if' statement on line 2\n"
     ]
    }
   ],
   "source": [
    "name =\"xyz\"\n",
    "if name == \"xyz\":\n",
    "print(\"Hii\")\n",
    "else:\n",
    "    print(\"Byy\")"
   ]
  },
  {
   "cell_type": "code",
   "execution_count": null,
   "id": "c0b1ae2e",
   "metadata": {},
   "outputs": [],
   "source": []
  }
 ],
 "metadata": {
  "kernelspec": {
   "display_name": "Python 3 (ipykernel)",
   "language": "python",
   "name": "python3"
  },
  "language_info": {
   "codemirror_mode": {
    "name": "ipython",
    "version": 3
   },
   "file_extension": ".py",
   "mimetype": "text/x-python",
   "name": "python",
   "nbconvert_exporter": "python",
   "pygments_lexer": "ipython3",
   "version": "3.10.1"
  }
 },
 "nbformat": 4,
 "nbformat_minor": 5
}
