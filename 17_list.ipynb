{
 "cells": [
  {
   "cell_type": "markdown",
   "id": "de1a20d4",
   "metadata": {},
   "source": [
    "# List"
   ]
  },
  {
   "cell_type": "markdown",
   "id": "601e3b9d",
   "metadata": {},
   "source": [
    "# Create"
   ]
  },
  {
   "cell_type": "code",
   "execution_count": 1,
   "id": "52c9ac28",
   "metadata": {},
   "outputs": [],
   "source": [
    "L=[1,2,3,4,5]"
   ]
  },
  {
   "cell_type": "code",
   "execution_count": 2,
   "id": "505f9a27",
   "metadata": {},
   "outputs": [
    {
     "name": "stdout",
     "output_type": "stream",
     "text": [
      "[1, 2, 3, 4, 5]\n"
     ]
    }
   ],
   "source": [
    "print(L)"
   ]
  },
  {
   "cell_type": "code",
   "execution_count": 4,
   "id": "8dbbc78d",
   "metadata": {},
   "outputs": [
    {
     "name": "stdout",
     "output_type": "stream",
     "text": [
      "['Hello', 4, 5, 6, True, 5.8, (5+6j)]\n"
     ]
    }
   ],
   "source": [
    "L2=[\"Hello\",4,5,6,True,5.8,5+6j]\n",
    "print(L2)"
   ]
  },
  {
   "cell_type": "markdown",
   "id": "2a65fae3",
   "metadata": {},
   "source": [
    "# Multidimentional List"
   ]
  },
  {
   "cell_type": "markdown",
   "id": "40a6c957",
   "metadata": {},
   "source": [
    "# 2D"
   ]
  },
  {
   "cell_type": "code",
   "execution_count": 6,
   "id": "903bf824",
   "metadata": {},
   "outputs": [
    {
     "name": "stdout",
     "output_type": "stream",
     "text": [
      "[1, 2, 3, [4, 5]]\n"
     ]
    }
   ],
   "source": [
    "L3=[1,2,3,[4,5]]\n",
    "print(L3)"
   ]
  },
  {
   "cell_type": "markdown",
   "id": "76779060",
   "metadata": {},
   "source": [
    "# 3D"
   ]
  },
  {
   "cell_type": "code",
   "execution_count": 8,
   "id": "ebef3bb6",
   "metadata": {},
   "outputs": [
    {
     "name": "stdout",
     "output_type": "stream",
     "text": [
      "[3, 4, [4, 5, 4], [4, 5, 6], [7, 8]]\n"
     ]
    }
   ],
   "source": [
    "L4=[3,4,[4,5,4],[4,5,6],[7,8]]\n",
    "print(L4)"
   ]
  },
  {
   "cell_type": "code",
   "execution_count": 10,
   "id": "83cd8e4a",
   "metadata": {},
   "outputs": [
    {
     "name": "stdout",
     "output_type": "stream",
     "text": [
      "['H', 'a', 'l', 'd', 'i', 'a']\n"
     ]
    }
   ],
   "source": [
    "L5=list(\"Haldia\")\n",
    "print(L5)"
   ]
  },
  {
   "cell_type": "code",
   "execution_count": 14,
   "id": "b29524ae",
   "metadata": {},
   "outputs": [
    {
     "name": "stdout",
     "output_type": "stream",
     "text": [
      "1\n"
     ]
    }
   ],
   "source": [
    "L=[1,2,3,4,5]\n",
    "print(L[0])"
   ]
  },
  {
   "cell_type": "code",
   "execution_count": 15,
   "id": "eb098c5e",
   "metadata": {},
   "outputs": [
    {
     "name": "stdout",
     "output_type": "stream",
     "text": [
      "[4, 5, 6]\n"
     ]
    }
   ],
   "source": [
    "L4=[3,4,[4,5,4],[4,5,6],[7,8]]\n",
    "print(L4[-2])"
   ]
  },
  {
   "cell_type": "code",
   "execution_count": 16,
   "id": "3ff21510",
   "metadata": {},
   "outputs": [
    {
     "name": "stdout",
     "output_type": "stream",
     "text": [
      "[[8, 9], [4, 5], [5, 6], [7, 8]]\n"
     ]
    }
   ],
   "source": [
    "L4=[[8,9],[4,5],[5,6],[7,8]]\n",
    "print(L4)"
   ]
  },
  {
   "cell_type": "code",
   "execution_count": 20,
   "id": "b85aaf60",
   "metadata": {},
   "outputs": [
    {
     "name": "stdout",
     "output_type": "stream",
     "text": [
      "[4, 5] [3]\n"
     ]
    }
   ],
   "source": [
    "print(L4[1],[3])"
   ]
  },
  {
   "cell_type": "markdown",
   "id": "08728953",
   "metadata": {},
   "source": [
    "# Edit"
   ]
  },
  {
   "cell_type": "markdown",
   "id": "6fc5bf16",
   "metadata": {},
   "source": [
    "# List in python are mutable"
   ]
  },
  {
   "cell_type": "code",
   "execution_count": 27,
   "id": "d05c70e7",
   "metadata": {},
   "outputs": [],
   "source": [
    "L = [1, 2, 3, 4, 5]\n",
    "L[-1] = 100"
   ]
  },
  {
   "cell_type": "code",
   "execution_count": 28,
   "id": "1889eb05",
   "metadata": {},
   "outputs": [
    {
     "name": "stdout",
     "output_type": "stream",
     "text": [
      "[1, 2, 3, 4, 100]\n"
     ]
    }
   ],
   "source": [
    "print(L)"
   ]
  },
  {
   "cell_type": "code",
   "execution_count": 32,
   "id": "4438bd0e",
   "metadata": {},
   "outputs": [],
   "source": [
    "L = [100, 200, 300, 400, 500]\n",
    "L[-2] = 1100"
   ]
  },
  {
   "cell_type": "code",
   "execution_count": 33,
   "id": "6c394d25",
   "metadata": {},
   "outputs": [
    {
     "name": "stdout",
     "output_type": "stream",
     "text": [
      "[100, 200, 300, 1100, 500]\n"
     ]
    }
   ],
   "source": [
    "print(L)"
   ]
  },
  {
   "cell_type": "code",
   "execution_count": 38,
   "id": "6fe22f45",
   "metadata": {},
   "outputs": [],
   "source": [
    "L = [1, 2, 3, 4, 5]\n",
    "L[1:3] = [1,1,5]"
   ]
  },
  {
   "cell_type": "code",
   "execution_count": 39,
   "id": "7007eff6",
   "metadata": {},
   "outputs": [
    {
     "name": "stdout",
     "output_type": "stream",
     "text": [
      "[1, 1, 1, 5, 4, 5]\n"
     ]
    }
   ],
   "source": [
    "print(L)"
   ]
  },
  {
   "cell_type": "markdown",
   "id": "da82a958",
   "metadata": {},
   "source": [
    "# For operation on List"
   ]
  },
  {
   "cell_type": "markdown",
   "id": "71c6eb2f",
   "metadata": {},
   "source": [
    "# append()"
   ]
  },
  {
   "cell_type": "code",
   "execution_count": 41,
   "id": "556b06c8",
   "metadata": {},
   "outputs": [],
   "source": [
    "L = [1, 2, 3, 4, 5]\n",
    "L.append(100)"
   ]
  },
  {
   "cell_type": "code",
   "execution_count": 42,
   "id": "687d0a91",
   "metadata": {},
   "outputs": [
    {
     "name": "stdout",
     "output_type": "stream",
     "text": [
      "[1, 2, 3, 4, 5, 100]\n"
     ]
    }
   ],
   "source": [
    "print(L)"
   ]
  },
  {
   "cell_type": "code",
   "execution_count": 43,
   "id": "0779fad6",
   "metadata": {},
   "outputs": [],
   "source": [
    "L = [1, 2, 3, 4, 5]\n",
    "L.append(\"Heloo\")"
   ]
  },
  {
   "cell_type": "code",
   "execution_count": 44,
   "id": "3eebb5bd",
   "metadata": {},
   "outputs": [
    {
     "name": "stdout",
     "output_type": "stream",
     "text": [
      "[1, 2, 3, 4, 5, 'Heloo']\n"
     ]
    }
   ],
   "source": [
    "print(L)"
   ]
  },
  {
   "cell_type": "markdown",
   "id": "d057a0da",
   "metadata": {},
   "source": [
    "# extend()"
   ]
  },
  {
   "cell_type": "code",
   "execution_count": 48,
   "id": "dddaec1a",
   "metadata": {},
   "outputs": [
    {
     "name": "stdout",
     "output_type": "stream",
     "text": [
      "[1, 2, 3, 4, 5, 'H', 'e', 'l', 'l', 'o']\n"
     ]
    }
   ],
   "source": [
    "L = [1, 2, 3, 4, 5]\n",
    "L.extend(\"Hello\")\n",
    "print(L)"
   ]
  },
  {
   "cell_type": "markdown",
   "id": "9920b7ed",
   "metadata": {},
   "source": [
    "# insert( )"
   ]
  },
  {
   "cell_type": "code",
   "execution_count": 49,
   "id": "0d53be6e",
   "metadata": {},
   "outputs": [
    {
     "name": "stdout",
     "output_type": "stream",
     "text": [
      "[1, 'Hello', 2, 3, 4, 5]\n"
     ]
    }
   ],
   "source": [
    "L = [1, 2, 3, 4, 5]\n",
    "L.extend(\"Hello\")\n",
    "print(L)"
   ]
  },
  {
   "cell_type": "markdown",
   "id": "229607a3",
   "metadata": {},
   "source": [
    "# delete()"
   ]
  },
  {
   "cell_type": "code",
   "execution_count": 53,
   "id": "9b244322",
   "metadata": {},
   "outputs": [
    {
     "name": "stdout",
     "output_type": "stream",
     "text": [
      "[1, 2, 4, 5]\n"
     ]
    }
   ],
   "source": [
    "L = [1, 2, 3, 4, 5]\n",
    "del L[2]\n",
    "print(L)"
   ]
  },
  {
   "cell_type": "code",
   "execution_count": 54,
   "id": "fc93016a",
   "metadata": {},
   "outputs": [
    {
     "name": "stdout",
     "output_type": "stream",
     "text": [
      "[1, 2, 5]\n"
     ]
    }
   ],
   "source": [
    "del L[-2]\n",
    "print(L)"
   ]
  },
  {
   "cell_type": "markdown",
   "id": "07f51720",
   "metadata": {},
   "source": [
    "# remove()"
   ]
  },
  {
   "cell_type": "code",
   "execution_count": 55,
   "id": "b2e3d648",
   "metadata": {},
   "outputs": [],
   "source": [
    "L = [1, 2, 3,\"Hello\", 4, 5]\n",
    "L.remove(\"Hello\")"
   ]
  },
  {
   "cell_type": "code",
   "execution_count": 56,
   "id": "63ed98ed",
   "metadata": {},
   "outputs": [
    {
     "name": "stdout",
     "output_type": "stream",
     "text": [
      "[1, 2, 3, 4, 5]\n"
     ]
    }
   ],
   "source": [
    "print(L)"
   ]
  },
  {
   "cell_type": "code",
   "execution_count": 57,
   "id": "a79accf5",
   "metadata": {},
   "outputs": [
    {
     "data": {
      "text/plain": [
       "[1, 2, 3, 4, 5, 10, 20, 90, 40, 50]"
      ]
     },
     "execution_count": 57,
     "metadata": {},
     "output_type": "execute_result"
    }
   ],
   "source": [
    "L = [1, 2, 3, 4, 5]\n",
    "L1 = [10, 20, 90, 40, 50]\n",
    "L+L1"
   ]
  },
  {
   "cell_type": "code",
   "execution_count": 58,
   "id": "37774a1b",
   "metadata": {},
   "outputs": [
    {
     "data": {
      "text/plain": [
       "[1, 2, 3, 4, 5]"
      ]
     },
     "execution_count": 58,
     "metadata": {},
     "output_type": "execute_result"
    }
   ],
   "source": [
    "L"
   ]
  },
  {
   "cell_type": "code",
   "execution_count": 60,
   "id": "b4941191",
   "metadata": {},
   "outputs": [
    {
     "data": {
      "text/plain": [
       "[10, 20, 90, 40, 50]"
      ]
     },
     "execution_count": 60,
     "metadata": {},
     "output_type": "execute_result"
    }
   ],
   "source": [
    "L1"
   ]
  },
  {
   "cell_type": "code",
   "execution_count": 63,
   "id": "8ef9dc69",
   "metadata": {},
   "outputs": [
    {
     "name": "stdout",
     "output_type": "stream",
     "text": [
      "[1, 2, 3, 4, 5, 1, 2, 3, 4, 5, 1, 2, 3, 4, 5]\n"
     ]
    }
   ],
   "source": [
    "print(L*3)"
   ]
  },
  {
   "cell_type": "code",
   "execution_count": 64,
   "id": "35e11c04",
   "metadata": {},
   "outputs": [
    {
     "name": "stdout",
     "output_type": "stream",
     "text": [
      "1\n",
      "2\n",
      "3\n",
      "4\n",
      "5\n"
     ]
    }
   ],
   "source": [
    "for i in L:\n",
    "    print(i)"
   ]
  },
  {
   "cell_type": "code",
   "execution_count": 65,
   "id": "f5268627",
   "metadata": {},
   "outputs": [
    {
     "name": "stdout",
     "output_type": "stream",
     "text": [
      "10\n",
      "20\n",
      "90\n",
      "40\n",
      "50\n"
     ]
    }
   ],
   "source": [
    "for i in L1:\n",
    "    print(i)"
   ]
  },
  {
   "cell_type": "markdown",
   "id": "83cecd3a",
   "metadata": {},
   "source": [
    "# Functions"
   ]
  },
  {
   "cell_type": "code",
   "execution_count": 71,
   "id": "51744972",
   "metadata": {},
   "outputs": [
    {
     "data": {
      "text/plain": [
       "5"
      ]
     },
     "execution_count": 71,
     "metadata": {},
     "output_type": "execute_result"
    }
   ],
   "source": [
    "L = [1, 2, 3, 4, 5]\n",
    "len(L)"
   ]
  },
  {
   "cell_type": "code",
   "execution_count": 72,
   "id": "dfa55ada",
   "metadata": {},
   "outputs": [
    {
     "data": {
      "text/plain": [
       "1"
      ]
     },
     "execution_count": 72,
     "metadata": {},
     "output_type": "execute_result"
    }
   ],
   "source": [
    "min(L)"
   ]
  },
  {
   "cell_type": "code",
   "execution_count": 73,
   "id": "5381525a",
   "metadata": {},
   "outputs": [
    {
     "data": {
      "text/plain": [
       "5"
      ]
     },
     "execution_count": 73,
     "metadata": {},
     "output_type": "execute_result"
    }
   ],
   "source": [
    "max(L)"
   ]
  },
  {
   "cell_type": "markdown",
   "id": "06c4f165",
   "metadata": {},
   "source": [
    "# sorted is not permanant operation its create a new list in memory"
   ]
  },
  {
   "cell_type": "code",
   "execution_count": 74,
   "id": "9845b287",
   "metadata": {},
   "outputs": [
    {
     "data": {
      "text/plain": [
       "[1, 2, 3, 4, 5]"
      ]
     },
     "execution_count": 74,
     "metadata": {},
     "output_type": "execute_result"
    }
   ],
   "source": [
    "sorted(L)"
   ]
  },
  {
   "cell_type": "code",
   "execution_count": 75,
   "id": "a6e99220",
   "metadata": {},
   "outputs": [
    {
     "data": {
      "text/plain": [
       "[5, 4, 3, 2, 1]"
      ]
     },
     "execution_count": 75,
     "metadata": {},
     "output_type": "execute_result"
    }
   ],
   "source": [
    "sorted(L,reverse=True)"
   ]
  },
  {
   "cell_type": "code",
   "execution_count": 76,
   "id": "45e7fb8a",
   "metadata": {},
   "outputs": [
    {
     "data": {
      "text/plain": [
       "[1, 2, 3, 4, 5]"
      ]
     },
     "execution_count": 76,
     "metadata": {},
     "output_type": "execute_result"
    }
   ],
   "source": [
    "sorted(L,reverse=False)"
   ]
  },
  {
   "cell_type": "code",
   "execution_count": 77,
   "id": "49243f01",
   "metadata": {
    "scrolled": true
   },
   "outputs": [
    {
     "data": {
      "text/plain": [
       "[1, 2, 3, 4, 5]"
      ]
     },
     "execution_count": 77,
     "metadata": {},
     "output_type": "execute_result"
    }
   ],
   "source": [
    "L"
   ]
  },
  {
   "cell_type": "code",
   "execution_count": 82,
   "id": "6eb541d2",
   "metadata": {},
   "outputs": [
    {
     "data": {
      "text/plain": [
       "2"
      ]
     },
     "execution_count": 82,
     "metadata": {},
     "output_type": "execute_result"
    }
   ],
   "source": [
    "L = [1, 2, 3, 4, 5]\n",
    "L.index(3)"
   ]
  },
  {
   "cell_type": "code",
   "execution_count": 83,
   "id": "3fb9e65e",
   "metadata": {},
   "outputs": [
    {
     "name": "stdout",
     "output_type": "stream",
     "text": [
      "['have', 'a', 'greate', 'day']\n"
     ]
    }
   ],
   "source": [
    "sample=\"have a greate day\"\n",
    "print(sample.split())"
   ]
  },
  {
   "cell_type": "code",
   "execution_count": 84,
   "id": "f8edbe07",
   "metadata": {},
   "outputs": [
    {
     "name": "stdout",
     "output_type": "stream",
     "text": [
      "Have\n",
      "A\n",
      "Greate\n",
      "Day\n"
     ]
    }
   ],
   "source": [
    "for i in sample.split():\n",
    "    print(i.capitalize())"
   ]
  },
  {
   "cell_type": "code",
   "execution_count": 85,
   "id": "a10ce712",
   "metadata": {},
   "outputs": [
    {
     "name": "stdout",
     "output_type": "stream",
     "text": [
      "Have\n",
      "A\n",
      "Greate\n",
      "Day\n"
     ]
    }
   ],
   "source": [
    "for i in sample.split():\n",
    "    print(i.capitalize())\n",
    "    L.append(i.capitalize())"
   ]
  },
  {
   "cell_type": "code",
   "execution_count": 92,
   "id": "1f6d1101",
   "metadata": {
    "scrolled": true
   },
   "outputs": [
    {
     "name": "stdout",
     "output_type": "stream",
     "text": [
      "swapnilnimbalkar\n"
     ]
    }
   ],
   "source": [
    "sample=\"swapnilnimbalkar@gmail.com\"\n",
    "print(sample[:sample.find(\"@\")])"
   ]
  },
  {
   "cell_type": "code",
   "execution_count": 93,
   "id": "6b8d48c1",
   "metadata": {},
   "outputs": [
    {
     "name": "stdout",
     "output_type": "stream",
     "text": [
      "swapnil\n"
     ]
    }
   ],
   "source": [
    "sample=\"swapnil@yahoo.com\"\n",
    "print(sample[:sample.find(\"@\")])"
   ]
  },
  {
   "cell_type": "code",
   "execution_count": 97,
   "id": "84f31a0e",
   "metadata": {},
   "outputs": [
    {
     "name": "stdout",
     "output_type": "stream",
     "text": [
      "[1, 2, 3, 4, 5]\n"
     ]
    }
   ],
   "source": [
    "L1=[1,2,3,4,5]\n",
    "L2=[2,3,1,3]\n",
    "L=[]\n",
    "\n",
    "for i in L2:\n",
    "    if i not in L:\n",
    "        L.append(i)\n",
    "print(L1)        "
   ]
  },
  {
   "cell_type": "code",
   "execution_count": null,
   "id": "0df0985d",
   "metadata": {},
   "outputs": [],
   "source": []
  }
 ],
 "metadata": {
  "kernelspec": {
   "display_name": "Python 3 (ipykernel)",
   "language": "python",
   "name": "python3"
  },
  "language_info": {
   "codemirror_mode": {
    "name": "ipython",
    "version": 3
   },
   "file_extension": ".py",
   "mimetype": "text/x-python",
   "name": "python",
   "nbconvert_exporter": "python",
   "pygments_lexer": "ipython3",
   "version": "3.10.1"
  }
 },
 "nbformat": 4,
 "nbformat_minor": 5
}
