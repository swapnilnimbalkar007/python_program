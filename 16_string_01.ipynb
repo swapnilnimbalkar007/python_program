{
 "cells": [
  {
   "cell_type": "markdown",
   "id": "28917701",
   "metadata": {},
   "source": [
    "# String"
   ]
  },
  {
   "cell_type": "markdown",
   "id": "6478fd9f",
   "metadata": {},
   "source": [
    "# String is sequence of characters"
   ]
  },
  {
   "cell_type": "markdown",
   "id": "a0e8e056",
   "metadata": {},
   "source": [
    "# In python specially, String are sequence of unicode characters"
   ]
  },
  {
   "cell_type": "markdown",
   "id": "14d356cf",
   "metadata": {},
   "source": [
    "# Creating string"
   ]
  },
  {
   "cell_type": "code",
   "execution_count": 3,
   "id": "6a414e81",
   "metadata": {},
   "outputs": [
    {
     "name": "stdout",
     "output_type": "stream",
     "text": [
      "Swapnil\n"
     ]
    }
   ],
   "source": [
    "a=(\"Swapnil\")\n",
    "print(a)"
   ]
  },
  {
   "cell_type": "code",
   "execution_count": 4,
   "id": "7214021f",
   "metadata": {},
   "outputs": [
    {
     "name": "stdout",
     "output_type": "stream",
     "text": [
      "Swapnil\n"
     ]
    }
   ],
   "source": [
    "a=('Swapnil')\n",
    "print(a)"
   ]
  },
  {
   "cell_type": "code",
   "execution_count": 6,
   "id": "64fbacc4",
   "metadata": {},
   "outputs": [
    {
     "data": {
      "text/plain": [
       "'Hello'"
      ]
     },
     "execution_count": 6,
     "metadata": {},
     "output_type": "execute_result"
    }
   ],
   "source": [
    "c=str(\"Hello\")\n",
    "c"
   ]
  },
  {
   "cell_type": "markdown",
   "id": "79ed28be",
   "metadata": {},
   "source": [
    "# Accessing  substring form string"
   ]
  },
  {
   "cell_type": "code",
   "execution_count": 7,
   "id": "6a6ce171",
   "metadata": {},
   "outputs": [
    {
     "name": "stdout",
     "output_type": "stream",
     "text": [
      "Swapnil\n"
     ]
    }
   ],
   "source": [
    "#concepts of indexing\n",
    "c=(\"Swapnil\")\n",
    "print(c)"
   ]
  },
  {
   "cell_type": "code",
   "execution_count": 20,
   "id": "8fe90269",
   "metadata": {},
   "outputs": [
    {
     "name": "stdout",
     "output_type": "stream",
     "text": [
      "l\n"
     ]
    }
   ],
   "source": [
    "a=\"Swapnil\"\n",
    "print(a[6])"
   ]
  },
  {
   "cell_type": "code",
   "execution_count": 21,
   "id": "a859070f",
   "metadata": {},
   "outputs": [
    {
     "name": "stdout",
     "output_type": "stream",
     "text": [
      "n\n"
     ]
    }
   ],
   "source": [
    "print(a[-3])"
   ]
  },
  {
   "cell_type": "code",
   "execution_count": 22,
   "id": "74ac3927",
   "metadata": {},
   "outputs": [
    {
     "name": "stdout",
     "output_type": "stream",
     "text": [
      "Swa\n"
     ]
    }
   ],
   "source": [
    "print(a[0:3])"
   ]
  },
  {
   "cell_type": "code",
   "execution_count": 23,
   "id": "e81569a0",
   "metadata": {},
   "outputs": [
    {
     "name": "stdout",
     "output_type": "stream",
     "text": [
      "pnil\n"
     ]
    }
   ],
   "source": [
    "print(a[3:7])"
   ]
  },
  {
   "cell_type": "code",
   "execution_count": 24,
   "id": "d776d3c1",
   "metadata": {},
   "outputs": [
    {
     "name": "stdout",
     "output_type": "stream",
     "text": [
      "Swapnil\n"
     ]
    }
   ],
   "source": [
    "print(a[0:7])"
   ]
  },
  {
   "cell_type": "code",
   "execution_count": 25,
   "id": "6f9f0f62",
   "metadata": {},
   "outputs": [
    {
     "name": "stdout",
     "output_type": "stream",
     "text": [
      "pnil\n"
     ]
    }
   ],
   "source": [
    "print(a[3:])"
   ]
  },
  {
   "cell_type": "code",
   "execution_count": 26,
   "id": "3138a3a5",
   "metadata": {},
   "outputs": [
    {
     "name": "stdout",
     "output_type": "stream",
     "text": [
      "Swap\n"
     ]
    }
   ],
   "source": [
    "print(a[:4])"
   ]
  },
  {
   "cell_type": "code",
   "execution_count": 27,
   "id": "eada0cfd",
   "metadata": {},
   "outputs": [
    {
     "name": "stdout",
     "output_type": "stream",
     "text": [
      "Swapnil\n"
     ]
    }
   ],
   "source": [
    "print(a[:])"
   ]
  },
  {
   "cell_type": "code",
   "execution_count": 28,
   "id": "bf288a9c",
   "metadata": {},
   "outputs": [
    {
     "name": "stdout",
     "output_type": "stream",
     "text": [
      "a\n"
     ]
    }
   ],
   "source": [
    "print(a[2:6:4])"
   ]
  },
  {
   "cell_type": "markdown",
   "id": "08c3fc1e",
   "metadata": {},
   "source": [
    "# Edit and Deleting String"
   ]
  },
  {
   "cell_type": "code",
   "execution_count": 37,
   "id": "10870de6",
   "metadata": {},
   "outputs": [
    {
     "name": "stdout",
     "output_type": "stream",
     "text": [
      "Hello World\n"
     ]
    }
   ],
   "source": [
    "c=\"Hello World\"\n",
    "print(c)"
   ]
  },
  {
   "cell_type": "code",
   "execution_count": 41,
   "id": "5d781bf4",
   "metadata": {
    "scrolled": true
   },
   "outputs": [
    {
     "ename": "TypeError",
     "evalue": "'str' object does not support item assignment",
     "output_type": "error",
     "traceback": [
      "\u001b[1;31m---------------------------------------------------------------------------\u001b[0m",
      "\u001b[1;31mTypeError\u001b[0m                                 Traceback (most recent call last)",
      "Cell \u001b[1;32mIn[41], line 2\u001b[0m\n\u001b[0;32m      1\u001b[0m \u001b[38;5;66;03m#You can't edit the string\u001b[39;00m\n\u001b[1;32m----> 2\u001b[0m \u001b[43mc\u001b[49m\u001b[43m[\u001b[49m\u001b[38;5;241;43m0\u001b[39;49m\u001b[43m]\u001b[49m\u001b[38;5;241m=\u001b[39m\u001b[38;5;124m\"\u001b[39m\u001b[38;5;124mc\u001b[39m\u001b[38;5;124m\"\u001b[39m\n",
      "\u001b[1;31mTypeError\u001b[0m: 'str' object does not support item assignment"
     ]
    }
   ],
   "source": [
    "#You can't edit the string\n",
    "c[0]=\"c\""
   ]
  },
  {
   "cell_type": "code",
   "execution_count": 42,
   "id": "89051abc",
   "metadata": {},
   "outputs": [],
   "source": [
    "#String are immutable data type"
   ]
  },
  {
   "cell_type": "code",
   "execution_count": 43,
   "id": "9d357bef",
   "metadata": {},
   "outputs": [
    {
     "name": "stdout",
     "output_type": "stream",
     "text": [
      "Hello World\n"
     ]
    }
   ],
   "source": [
    "print(c)"
   ]
  },
  {
   "cell_type": "code",
   "execution_count": 44,
   "id": "3f7e368c",
   "metadata": {},
   "outputs": [
    {
     "ename": "TypeError",
     "evalue": "'str' object doesn't support item deletion",
     "output_type": "error",
     "traceback": [
      "\u001b[1;31m---------------------------------------------------------------------------\u001b[0m",
      "\u001b[1;31mTypeError\u001b[0m                                 Traceback (most recent call last)",
      "Cell \u001b[1;32mIn[44], line 1\u001b[0m\n\u001b[1;32m----> 1\u001b[0m \u001b[38;5;28;01mdel\u001b[39;00m c[\u001b[38;5;241m2\u001b[39m]\n",
      "\u001b[1;31mTypeError\u001b[0m: 'str' object doesn't support item deletion"
     ]
    }
   ],
   "source": [
    "#deleting is not allowed \n",
    "del c[2]"
   ]
  },
  {
   "cell_type": "markdown",
   "id": "efe19b2e",
   "metadata": {},
   "source": [
    "# Operations on string"
   ]
  },
  {
   "cell_type": "code",
   "execution_count": 1,
   "id": "f71b9c21",
   "metadata": {},
   "outputs": [],
   "source": [
    "#1.Arithmetic operations\n",
    "#2.Relational operations\n",
    "#3.Logical operations\n",
    "#4.Loops on string\n",
    "#5.Membership operations"
   ]
  },
  {
   "cell_type": "markdown",
   "id": "e8fcc8bb",
   "metadata": {},
   "source": [
    "# 1.Arithmetic operations"
   ]
  },
  {
   "cell_type": "code",
   "execution_count": 2,
   "id": "99157c91",
   "metadata": {},
   "outputs": [
    {
     "data": {
      "text/plain": [
       "'WelocomeSwapnil'"
      ]
     },
     "execution_count": 2,
     "metadata": {},
     "output_type": "execute_result"
    }
   ],
   "source": [
    "#string concatenation \n",
    "\"Welocome\"+\"Swapnil\""
   ]
  },
  {
   "cell_type": "code",
   "execution_count": 3,
   "id": "0501b5b9",
   "metadata": {},
   "outputs": [
    {
     "data": {
      "text/plain": [
       "'HelloHelloHelloHelloHelloHelloHelloHelloHelloHelloHelloHelloHelloHelloHelloHelloHelloHelloHelloHello'"
      ]
     },
     "execution_count": 3,
     "metadata": {},
     "output_type": "execute_result"
    }
   ],
   "source": [
    "\"Hello\"*20"
   ]
  },
  {
   "cell_type": "code",
   "execution_count": 4,
   "id": "42d87c66",
   "metadata": {},
   "outputs": [
    {
     "data": {
      "text/plain": [
       "'**************************************************'"
      ]
     },
     "execution_count": 4,
     "metadata": {},
     "output_type": "execute_result"
    }
   ],
   "source": [
    "\"*\"*50"
   ]
  },
  {
   "cell_type": "markdown",
   "id": "9cb5d329",
   "metadata": {},
   "source": [
    "# 2.Relational operations"
   ]
  },
  {
   "cell_type": "code",
   "execution_count": 5,
   "id": "82091a92",
   "metadata": {},
   "outputs": [
    {
     "data": {
      "text/plain": [
       "False"
      ]
     },
     "execution_count": 5,
     "metadata": {},
     "output_type": "execute_result"
    }
   ],
   "source": [
    "\"Hello\"==\"Swapnil\""
   ]
  },
  {
   "cell_type": "code",
   "execution_count": 6,
   "id": "5fad11b4",
   "metadata": {},
   "outputs": [
    {
     "data": {
      "text/plain": [
       "True"
      ]
     },
     "execution_count": 6,
     "metadata": {},
     "output_type": "execute_result"
    }
   ],
   "source": [
    "\"Swapnil\"==\"Swapnil\""
   ]
  },
  {
   "cell_type": "code",
   "execution_count": 7,
   "id": "94f3876f",
   "metadata": {},
   "outputs": [
    {
     "data": {
      "text/plain": [
       "True"
      ]
     },
     "execution_count": 7,
     "metadata": {},
     "output_type": "execute_result"
    }
   ],
   "source": [
    "\"Hello\"!=\"Swapnil\""
   ]
  },
  {
   "cell_type": "code",
   "execution_count": 8,
   "id": "50de81d8",
   "metadata": {},
   "outputs": [
    {
     "data": {
      "text/plain": [
       "False"
      ]
     },
     "execution_count": 8,
     "metadata": {},
     "output_type": "execute_result"
    }
   ],
   "source": [
    "\"Mumbai\">\"Pune\""
   ]
  },
  {
   "cell_type": "code",
   "execution_count": 9,
   "id": "a7b460b0",
   "metadata": {},
   "outputs": [
    {
     "data": {
      "text/plain": [
       "True"
      ]
     },
     "execution_count": 9,
     "metadata": {},
     "output_type": "execute_result"
    }
   ],
   "source": [
    "#laxiographically (which letter is first come then it will true)\n",
    "\"Mumbai\"<\"Pune\""
   ]
  },
  {
   "cell_type": "code",
   "execution_count": 10,
   "id": "92ef1f8f",
   "metadata": {},
   "outputs": [
    {
     "data": {
      "text/plain": [
       "True"
      ]
     },
     "execution_count": 10,
     "metadata": {},
     "output_type": "execute_result"
    }
   ],
   "source": [
    "\"Goa\"<\"Kolkata\""
   ]
  },
  {
   "cell_type": "code",
   "execution_count": 11,
   "id": "f8571887",
   "metadata": {},
   "outputs": [
    {
     "data": {
      "text/plain": [
       "False"
      ]
     },
     "execution_count": 11,
     "metadata": {},
     "output_type": "execute_result"
    }
   ],
   "source": [
    "\"Goa\">\"Kolkata\""
   ]
  },
  {
   "cell_type": "code",
   "execution_count": 12,
   "id": "d4758339",
   "metadata": {},
   "outputs": [
    {
     "data": {
      "text/plain": [
       "True"
      ]
     },
     "execution_count": 12,
     "metadata": {},
     "output_type": "execute_result"
    }
   ],
   "source": [
    "\"Swapnil\"<\"swapnil\""
   ]
  },
  {
   "cell_type": "markdown",
   "id": "da88bab8",
   "metadata": {},
   "source": [
    "# 3.Logical Oprations"
   ]
  },
  {
   "cell_type": "code",
   "execution_count": 13,
   "id": "b471e942",
   "metadata": {},
   "outputs": [
    {
     "data": {
      "text/plain": [
       "'Hello'"
      ]
     },
     "execution_count": 13,
     "metadata": {},
     "output_type": "execute_result"
    }
   ],
   "source": [
    "\"Swapnil\"and\"Hello\""
   ]
  },
  {
   "cell_type": "code",
   "execution_count": 15,
   "id": "f3172bb5",
   "metadata": {},
   "outputs": [],
   "source": [
    "#\"Swapnil\"==>True\n",
    "#\" \"==>False\n"
   ]
  },
  {
   "cell_type": "code",
   "execution_count": 16,
   "id": "736d292c",
   "metadata": {},
   "outputs": [
    {
     "data": {
      "text/plain": [
       "'Hello'"
      ]
     },
     "execution_count": 16,
     "metadata": {},
     "output_type": "execute_result"
    }
   ],
   "source": [
    "\"Hello\"or\"Swapnil\""
   ]
  },
  {
   "cell_type": "code",
   "execution_count": 18,
   "id": "2437d941",
   "metadata": {},
   "outputs": [
    {
     "data": {
      "text/plain": [
       "''"
      ]
     },
     "execution_count": 18,
     "metadata": {},
     "output_type": "execute_result"
    }
   ],
   "source": [
    "\"\"and\"Swapnil\""
   ]
  },
  {
   "cell_type": "code",
   "execution_count": 20,
   "id": "44928767",
   "metadata": {},
   "outputs": [
    {
     "data": {
      "text/plain": [
       "False"
      ]
     },
     "execution_count": 20,
     "metadata": {},
     "output_type": "execute_result"
    }
   ],
   "source": [
    "not\"Hello\""
   ]
  },
  {
   "cell_type": "code",
   "execution_count": 24,
   "id": "dc4ce654",
   "metadata": {},
   "outputs": [
    {
     "data": {
      "text/plain": [
       "True"
      ]
     },
     "execution_count": 24,
     "metadata": {},
     "output_type": "execute_result"
    }
   ],
   "source": [
    "not\"\""
   ]
  },
  {
   "cell_type": "code",
   "execution_count": 25,
   "id": "27bd27c3",
   "metadata": {},
   "outputs": [],
   "source": [
    "#Empty strings are false and non empty strings are True"
   ]
  },
  {
   "cell_type": "markdown",
   "id": "4225246c",
   "metadata": {},
   "source": [
    "# 4.Loop on strings"
   ]
  },
  {
   "cell_type": "code",
   "execution_count": 30,
   "id": "4958bc9d",
   "metadata": {},
   "outputs": [
    {
     "name": "stdout",
     "output_type": "stream",
     "text": [
      "S\n",
      "w\n",
      "a\n",
      "p\n",
      "n\n",
      "i\n",
      "l\n"
     ]
    }
   ],
   "source": [
    "c=\"Swapnil\"\n",
    "for i in c:\n",
    "    print(i)"
   ]
  },
  {
   "cell_type": "code",
   "execution_count": 31,
   "id": "9f9ee980",
   "metadata": {},
   "outputs": [
    {
     "name": "stdout",
     "output_type": "stream",
     "text": [
      "o\n",
      "l\n",
      "l\n",
      "e\n",
      "H\n"
     ]
    }
   ],
   "source": [
    "c=\"Hello\"\n",
    "for i in c[::-1]:\n",
    "    print(i)"
   ]
  },
  {
   "cell_type": "markdown",
   "id": "75d2271d",
   "metadata": {},
   "source": [
    "# 5.Membership Operator"
   ]
  },
  {
   "cell_type": "code",
   "execution_count": 33,
   "id": "83041b96",
   "metadata": {},
   "outputs": [
    {
     "name": "stdout",
     "output_type": "stream",
     "text": [
      "Hello\n"
     ]
    }
   ],
   "source": [
    "c=\"Hello\"\n",
    "print(c)"
   ]
  },
  {
   "cell_type": "code",
   "execution_count": 34,
   "id": "20835d56",
   "metadata": {},
   "outputs": [
    {
     "data": {
      "text/plain": [
       "True"
      ]
     },
     "execution_count": 34,
     "metadata": {},
     "output_type": "execute_result"
    }
   ],
   "source": [
    "'H' in c"
   ]
  },
  {
   "cell_type": "code",
   "execution_count": 35,
   "id": "47b82057",
   "metadata": {},
   "outputs": [
    {
     "data": {
      "text/plain": [
       "True"
      ]
     },
     "execution_count": 35,
     "metadata": {},
     "output_type": "execute_result"
    }
   ],
   "source": [
    "\"e\"in c"
   ]
  },
  {
   "cell_type": "code",
   "execution_count": 36,
   "id": "a685a60e",
   "metadata": {},
   "outputs": [
    {
     "data": {
      "text/plain": [
       "False"
      ]
     },
     "execution_count": 36,
     "metadata": {},
     "output_type": "execute_result"
    }
   ],
   "source": [
    "\"a\"in c"
   ]
  },
  {
   "cell_type": "code",
   "execution_count": null,
   "id": "074a18ff",
   "metadata": {},
   "outputs": [],
   "source": []
  }
 ],
 "metadata": {
  "kernelspec": {
   "display_name": "Python 3 (ipykernel)",
   "language": "python",
   "name": "python3"
  },
  "language_info": {
   "codemirror_mode": {
    "name": "ipython",
    "version": 3
   },
   "file_extension": ".py",
   "mimetype": "text/x-python",
   "name": "python",
   "nbconvert_exporter": "python",
   "pygments_lexer": "ipython3",
   "version": "3.10.1"
  }
 },
 "nbformat": 4,
 "nbformat_minor": 5
}
