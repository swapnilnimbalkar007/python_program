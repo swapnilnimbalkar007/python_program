{
 "cells": [
  {
   "cell_type": "markdown",
   "id": "858e5939",
   "metadata": {},
   "source": [
    "# Data Types in python\n"
   ]
  },
  {
   "cell_type": "raw",
   "id": "534da184",
   "metadata": {},
   "source": [
    "Basic Data Types : integer, float, boolean, string\n",
    "Container Types : List, Tuple, Sets and Dictonary\n",
    "User Defined Types : Class"
   ]
  },
  {
   "cell_type": "code",
   "execution_count": 7,
   "id": "17cf1b5d",
   "metadata": {},
   "outputs": [
    {
     "name": "stdout",
     "output_type": "stream",
     "text": [
      "9\n",
      "inf\n"
     ]
    }
   ],
   "source": [
    "#integer\n",
    "print(9)\n",
    "print(1e309)"
   ]
  },
  {
   "cell_type": "code",
   "execution_count": 8,
   "id": "c96b3469",
   "metadata": {},
   "outputs": [
    {
     "name": "stdout",
     "output_type": "stream",
     "text": [
      "9.2\n"
     ]
    }
   ],
   "source": [
    "#float\n",
    "print(9.2)"
   ]
  },
  {
   "cell_type": "code",
   "execution_count": 10,
   "id": "3200dcf4",
   "metadata": {},
   "outputs": [
    {
     "name": "stdout",
     "output_type": "stream",
     "text": [
      "True\n",
      "False\n"
     ]
    }
   ],
   "source": [
    "#boolean\n",
    "print(True)\n",
    "print(False)"
   ]
  },
  {
   "cell_type": "code",
   "execution_count": 12,
   "id": "07e01d9b",
   "metadata": {},
   "outputs": [
    {
     "name": "stdout",
     "output_type": "stream",
     "text": [
      "(5+3j)\n"
     ]
    }
   ],
   "source": [
    "#complex\n",
    "print(5+3j)"
   ]
  },
  {
   "cell_type": "code",
   "execution_count": 13,
   "id": "87f6cb4b",
   "metadata": {},
   "outputs": [
    {
     "name": "stdout",
     "output_type": "stream",
     "text": [
      "India\n",
      "India\n"
     ]
    }
   ],
   "source": [
    "#string\n",
    "print(\"India\")\n",
    "print('India')"
   ]
  },
  {
   "cell_type": "code",
   "execution_count": 15,
   "id": "d2afc146",
   "metadata": {},
   "outputs": [
    {
     "name": "stdout",
     "output_type": "stream",
     "text": [
      "[1, 2, 3, 4, 5]\n"
     ]
    }
   ],
   "source": [
    "#list\n",
    "print([1,2,3,4,5])"
   ]
  },
  {
   "cell_type": "code",
   "execution_count": 16,
   "id": "2509a667",
   "metadata": {},
   "outputs": [
    {
     "name": "stdout",
     "output_type": "stream",
     "text": [
      "(1, 2, 3, 4, 5)\n"
     ]
    }
   ],
   "source": [
    "#tuple\n",
    "print((1,2,3,4,5))"
   ]
  },
  {
   "cell_type": "code",
   "execution_count": 17,
   "id": "a5ab32c9",
   "metadata": {},
   "outputs": [
    {
     "name": "stdout",
     "output_type": "stream",
     "text": [
      "{1, 2, 3, 4, 5}\n"
     ]
    }
   ],
   "source": [
    "#sets\n",
    "print({1,2,3,4,5})"
   ]
  },
  {
   "cell_type": "code",
   "execution_count": 21,
   "id": "50b54738",
   "metadata": {},
   "outputs": [
    {
     "name": "stdout",
     "output_type": "stream",
     "text": [
      "{'Name': 'Swapnil', 'Age': 21, 'Gender': 'Male'}\n"
     ]
    }
   ],
   "source": [
    "#dict\n",
    "#In the dictonary we use key value pairs\n",
    "print({\"Name\":\"Swapnil\", \"Age\":21, \"Gender\":\"Male\"})"
   ]
  },
  {
   "cell_type": "code",
   "execution_count": null,
   "id": "668052a2",
   "metadata": {},
   "outputs": [],
   "source": []
  }
 ],
 "metadata": {
  "kernelspec": {
   "display_name": "Python 3 (ipykernel)",
   "language": "python",
   "name": "python3"
  },
  "language_info": {
   "codemirror_mode": {
    "name": "ipython",
    "version": 3
   },
   "file_extension": ".py",
   "mimetype": "text/x-python",
   "name": "python",
   "nbconvert_exporter": "python",
   "pygments_lexer": "ipython3",
   "version": "3.10.1"
  }
 },
 "nbformat": 4,
 "nbformat_minor": 5
}
