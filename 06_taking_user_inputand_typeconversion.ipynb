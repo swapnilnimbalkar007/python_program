{
 "cells": [
  {
   "cell_type": "markdown",
   "id": "20ad0778",
   "metadata": {},
   "source": [
    "# taking user input and type conversion"
   ]
  },
  {
   "cell_type": "code",
   "execution_count": 4,
   "id": "ec03e686",
   "metadata": {},
   "outputs": [
    {
     "name": "stdout",
     "output_type": "stream",
     "text": [
      "Your NameSWapnil \n"
     ]
    }
   ],
   "source": [
    "input(\"Your Name\");"
   ]
  },
  {
   "cell_type": "code",
   "execution_count": 14,
   "id": "8585be74",
   "metadata": {},
   "outputs": [
    {
     "name": "stdout",
     "output_type": "stream",
     "text": [
      "3050\n"
     ]
    }
   ],
   "source": [
    "First_num = input(\"First_number\")\n",
    "Second_num =input(\"Second_number\")"
   ]
  },
  {
   "cell_type": "code",
   "execution_count": 16,
   "id": "47782d2f",
   "metadata": {},
   "outputs": [
    {
     "name": "stdout",
     "output_type": "stream",
     "text": [
      "3050\n"
     ]
    }
   ],
   "source": [
    "result=first_num+Second_num\n",
    "print(result)\n"
   ]
  },
  {
   "cell_type": "code",
   "execution_count": 17,
   "id": "8635b6d9",
   "metadata": {},
   "outputs": [],
   "source": [
    "#type conversion"
   ]
  },
  {
   "cell_type": "code",
   "execution_count": 20,
   "id": "995f9229",
   "metadata": {},
   "outputs": [
    {
     "data": {
      "text/plain": [
       "int"
      ]
     },
     "execution_count": 20,
     "metadata": {},
     "output_type": "execute_result"
    }
   ],
   "source": [
    "type(7)"
   ]
  },
  {
   "cell_type": "code",
   "execution_count": 21,
   "id": "2f012184",
   "metadata": {},
   "outputs": [
    {
     "data": {
      "text/plain": [
       "str"
      ]
     },
     "execution_count": 21,
     "metadata": {},
     "output_type": "execute_result"
    }
   ],
   "source": [
    "type(\"swapnil\")"
   ]
  },
  {
   "cell_type": "code",
   "execution_count": 23,
   "id": "0176dbde",
   "metadata": {},
   "outputs": [
    {
     "data": {
      "text/plain": [
       "float"
      ]
     },
     "execution_count": 23,
     "metadata": {},
     "output_type": "execute_result"
    }
   ],
   "source": [
    "type(3.8)"
   ]
  },
  {
   "cell_type": "code",
   "execution_count": 24,
   "id": "41d2ea48",
   "metadata": {},
   "outputs": [
    {
     "data": {
      "text/plain": [
       "bool"
      ]
     },
     "execution_count": 24,
     "metadata": {},
     "output_type": "execute_result"
    }
   ],
   "source": [
    "type(True)"
   ]
  },
  {
   "cell_type": "code",
   "execution_count": 25,
   "id": "6d100591",
   "metadata": {},
   "outputs": [
    {
     "data": {
      "text/plain": [
       "complex"
      ]
     },
     "execution_count": 25,
     "metadata": {},
     "output_type": "execute_result"
    }
   ],
   "source": [
    "type(5+8j)"
   ]
  },
  {
   "cell_type": "code",
   "execution_count": 27,
   "id": "ad1abd90",
   "metadata": {},
   "outputs": [
    {
     "data": {
      "text/plain": [
       "list"
      ]
     },
     "execution_count": 27,
     "metadata": {},
     "output_type": "execute_result"
    }
   ],
   "source": [
    "type([1,2,4,5,9])"
   ]
  },
  {
   "cell_type": "code",
   "execution_count": 28,
   "id": "9d538681",
   "metadata": {},
   "outputs": [
    {
     "data": {
      "text/plain": [
       "str"
      ]
     },
     "execution_count": 28,
     "metadata": {},
     "output_type": "execute_result"
    }
   ],
   "source": [
    "type(\"First_num\")"
   ]
  },
  {
   "cell_type": "code",
   "execution_count": 30,
   "id": "fbda53cc",
   "metadata": {},
   "outputs": [
    {
     "data": {
      "text/plain": [
       "'30'"
      ]
     },
     "execution_count": 30,
     "metadata": {},
     "output_type": "execute_result"
    }
   ],
   "source": [
    "first_num"
   ]
  },
  {
   "cell_type": "code",
   "execution_count": 34,
   "id": "4d6bda8e",
   "metadata": {},
   "outputs": [
    {
     "name": "stdout",
     "output_type": "stream",
     "text": [
      "First_number50\n",
      "Second_number30\n",
      "60\n"
     ]
    }
   ],
   "source": [
    "First_num = input(\"First_number\")\n",
    "Second_num =input(\"Second_number\")\n",
    "result=int(first_num)+int(Second_num)\n",
    "print(result)"
   ]
  },
  {
   "cell_type": "code",
   "execution_count": 33,
   "id": "64aae58c",
   "metadata": {
    "scrolled": true
   },
   "outputs": [
    {
     "name": "stdout",
     "output_type": "stream",
     "text": [
      "First_number40\n",
      "Second_number50\n",
      "90\n"
     ]
    }
   ],
   "source": [
    "First_num = int(input(\"First_number\"))\n",
    "Second_num =int(input(\"Second_number\"))\n",
    "result=First_num+Second_num\n",
    "print(result)"
   ]
  },
  {
   "cell_type": "code",
   "execution_count": null,
   "id": "519f0475",
   "metadata": {},
   "outputs": [],
   "source": []
  }
 ],
 "metadata": {
  "kernelspec": {
   "display_name": "Python 3 (ipykernel)",
   "language": "python",
   "name": "python3"
  },
  "language_info": {
   "codemirror_mode": {
    "name": "ipython",
    "version": 3
   },
   "file_extension": ".py",
   "mimetype": "text/x-python",
   "name": "python",
   "nbconvert_exporter": "python",
   "pygments_lexer": "ipython3",
   "version": "3.10.1"
  }
 },
 "nbformat": 4,
 "nbformat_minor": 5
}
