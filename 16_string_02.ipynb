{
 "cells": [
  {
   "cell_type": "markdown",
   "id": "6c7c925e",
   "metadata": {},
   "source": [
    "# String Functions"
   ]
  },
  {
   "cell_type": "markdown",
   "id": "f0ede79a",
   "metadata": {},
   "source": [
    "# Comman Functions\n",
    "#len \n",
    "#min\n",
    "#max\n",
    "#sorted"
   ]
  },
  {
   "cell_type": "code",
   "execution_count": 6,
   "id": "9c1ee5ff",
   "metadata": {},
   "outputs": [
    {
     "data": {
      "text/plain": [
       "5"
      ]
     },
     "execution_count": 6,
     "metadata": {},
     "output_type": "execute_result"
    }
   ],
   "source": [
    "a=\"Mumbai\"\n",
    "len(c)"
   ]
  },
  {
   "cell_type": "code",
   "execution_count": 8,
   "id": "043decf3",
   "metadata": {},
   "outputs": [
    {
     "data": {
      "text/plain": [
       "'u'"
      ]
     },
     "execution_count": 8,
     "metadata": {},
     "output_type": "execute_result"
    }
   ],
   "source": [
    "max(a)"
   ]
  },
  {
   "cell_type": "code",
   "execution_count": 9,
   "id": "0a03d49f",
   "metadata": {},
   "outputs": [
    {
     "data": {
      "text/plain": [
       "'M'"
      ]
     },
     "execution_count": 9,
     "metadata": {},
     "output_type": "execute_result"
    }
   ],
   "source": [
    "min(a)"
   ]
  },
  {
   "cell_type": "code",
   "execution_count": 10,
   "id": "246d59c1",
   "metadata": {},
   "outputs": [
    {
     "data": {
      "text/plain": [
       "['M', 'a', 'b', 'i', 'm', 'u']"
      ]
     },
     "execution_count": 10,
     "metadata": {},
     "output_type": "execute_result"
    }
   ],
   "source": [
    "sorted(a)"
   ]
  },
  {
   "cell_type": "code",
   "execution_count": 12,
   "id": "4814f879",
   "metadata": {},
   "outputs": [
    {
     "data": {
      "text/plain": [
       "['u', 'm', 'i', 'b', 'a', 'M']"
      ]
     },
     "execution_count": 12,
     "metadata": {},
     "output_type": "execute_result"
    }
   ],
   "source": [
    "sorted(a,reverse=True)"
   ]
  },
  {
   "cell_type": "markdown",
   "id": "15a61972",
   "metadata": {},
   "source": [
    "# 1.capitalize/Title/Upper/Lower/Swapcase"
   ]
  },
  {
   "cell_type": "code",
   "execution_count": 2,
   "id": "7dbc79ad",
   "metadata": {},
   "outputs": [],
   "source": [
    "c=\"mumbai\""
   ]
  },
  {
   "cell_type": "code",
   "execution_count": 3,
   "id": "c1126a9d",
   "metadata": {},
   "outputs": [
    {
     "data": {
      "text/plain": [
       "'Mumbai'"
      ]
     },
     "execution_count": 3,
     "metadata": {},
     "output_type": "execute_result"
    }
   ],
   "source": [
    "c.capitalize()"
   ]
  },
  {
   "cell_type": "code",
   "execution_count": 4,
   "id": "130d629a",
   "metadata": {},
   "outputs": [
    {
     "data": {
      "text/plain": [
       "'Hii Welcome Swapnil'"
      ]
     },
     "execution_count": 4,
     "metadata": {},
     "output_type": "execute_result"
    }
   ],
   "source": [
    "a=\"hii welcome swapnil\"\n",
    "a.title()"
   ]
  },
  {
   "cell_type": "code",
   "execution_count": 5,
   "id": "caf2dfaa",
   "metadata": {},
   "outputs": [
    {
     "data": {
      "text/plain": [
       "'MUMBAI'"
      ]
     },
     "execution_count": 5,
     "metadata": {},
     "output_type": "execute_result"
    }
   ],
   "source": [
    "c.upper()"
   ]
  },
  {
   "cell_type": "code",
   "execution_count": 6,
   "id": "1b96d368",
   "metadata": {},
   "outputs": [
    {
     "data": {
      "text/plain": [
       "'mumbai'"
      ]
     },
     "execution_count": 6,
     "metadata": {},
     "output_type": "execute_result"
    }
   ],
   "source": [
    "c.lower()"
   ]
  },
  {
   "cell_type": "code",
   "execution_count": 7,
   "id": "ba8388f3",
   "metadata": {},
   "outputs": [
    {
     "data": {
      "text/plain": [
       "'MUMBAI'"
      ]
     },
     "execution_count": 7,
     "metadata": {},
     "output_type": "execute_result"
    }
   ],
   "source": [
    "c.swapcase()"
   ]
  },
  {
   "cell_type": "markdown",
   "id": "8c8212dc",
   "metadata": {},
   "source": [
    "# 2.Count"
   ]
  },
  {
   "cell_type": "code",
   "execution_count": 22,
   "id": "7144f887",
   "metadata": {},
   "outputs": [
    {
     "data": {
      "text/plain": [
       "3"
      ]
     },
     "execution_count": 22,
     "metadata": {},
     "output_type": "execute_result"
    }
   ],
   "source": [
    "\"Hello, How are you\".count(\"o\")"
   ]
  },
  {
   "cell_type": "code",
   "execution_count": 23,
   "id": "26eab59f",
   "metadata": {},
   "outputs": [
    {
     "data": {
      "text/plain": [
       "1"
      ]
     },
     "execution_count": 23,
     "metadata": {},
     "output_type": "execute_result"
    }
   ],
   "source": [
    "\"Hello, How are you\".count(\"w\")"
   ]
  },
  {
   "cell_type": "code",
   "execution_count": null,
   "id": "55b6f5a7",
   "metadata": {},
   "outputs": [],
   "source": []
  },
  {
   "cell_type": "markdown",
   "id": "6caaad9d",
   "metadata": {},
   "source": [
    "# 3.Find/Index"
   ]
  },
  {
   "cell_type": "code",
   "execution_count": 24,
   "id": "62de6311",
   "metadata": {},
   "outputs": [
    {
     "data": {
      "text/plain": [
       "3"
      ]
     },
     "execution_count": 24,
     "metadata": {},
     "output_type": "execute_result"
    }
   ],
   "source": [
    "\"It is famous Country which is India\".find(\"i\")"
   ]
  },
  {
   "cell_type": "code",
   "execution_count": 27,
   "id": "fa257328",
   "metadata": {},
   "outputs": [
    {
     "ename": "ValueError",
     "evalue": "substring not found",
     "output_type": "error",
     "traceback": [
      "\u001b[1;31m---------------------------------------------------------------------------\u001b[0m",
      "\u001b[1;31mValueError\u001b[0m                                Traceback (most recent call last)",
      "Cell \u001b[1;32mIn[27], line 1\u001b[0m\n\u001b[1;32m----> 1\u001b[0m \u001b[38;5;124;43m\"\u001b[39;49m\u001b[38;5;124;43mIt is famous Country which is India\u001b[39;49m\u001b[38;5;124;43m\"\u001b[39;49m\u001b[38;5;241;43m.\u001b[39;49m\u001b[43mindex\u001b[49m\u001b[43m(\u001b[49m\u001b[38;5;124;43m\"\u001b[39;49m\u001b[38;5;124;43mx\u001b[39;49m\u001b[38;5;124;43m\"\u001b[39;49m\u001b[43m)\u001b[49m\n",
      "\u001b[1;31mValueError\u001b[0m: substring not found"
     ]
    }
   ],
   "source": [
    "\"It is famous Country which is India\".index(\"x\")"
   ]
  },
  {
   "cell_type": "markdown",
   "id": "14d6c8e3",
   "metadata": {},
   "source": [
    "# 4.Endswith/startswith"
   ]
  },
  {
   "cell_type": "code",
   "execution_count": 28,
   "id": "d0560bc9",
   "metadata": {},
   "outputs": [
    {
     "data": {
      "text/plain": [
       "True"
      ]
     },
     "execution_count": 28,
     "metadata": {},
     "output_type": "execute_result"
    }
   ],
   "source": [
    "\"It is famous Country which is India\".endswith(\"India\")"
   ]
  },
  {
   "cell_type": "code",
   "execution_count": 30,
   "id": "d0a135e6",
   "metadata": {},
   "outputs": [
    {
     "data": {
      "text/plain": [
       "True"
      ]
     },
     "execution_count": 30,
     "metadata": {},
     "output_type": "execute_result"
    }
   ],
   "source": [
    "\"It is famous Country which is India\".startswith(\"It\")"
   ]
  },
  {
   "cell_type": "code",
   "execution_count": 31,
   "id": "900c71d9",
   "metadata": {},
   "outputs": [
    {
     "data": {
      "text/plain": [
       "False"
      ]
     },
     "execution_count": 31,
     "metadata": {},
     "output_type": "execute_result"
    }
   ],
   "source": [
    "\"It is famous Country which is India\".endswith(\"It\")"
   ]
  },
  {
   "cell_type": "code",
   "execution_count": 32,
   "id": "735add1a",
   "metadata": {},
   "outputs": [
    {
     "data": {
      "text/plain": [
       "False"
      ]
     },
     "execution_count": 32,
     "metadata": {},
     "output_type": "execute_result"
    }
   ],
   "source": [
    "\"It is famous Country which is India\".startswith(\"India\")"
   ]
  },
  {
   "cell_type": "markdown",
   "id": "51bfd843",
   "metadata": {},
   "source": [
    "# 5.Format"
   ]
  },
  {
   "cell_type": "code",
   "execution_count": 33,
   "id": "f6a0dd19",
   "metadata": {},
   "outputs": [
    {
     "data": {
      "text/plain": [
       "'My name is Swapnil. At the stage my age is 21'"
      ]
     },
     "execution_count": 33,
     "metadata": {},
     "output_type": "execute_result"
    }
   ],
   "source": [
    "\"My name is {}. At the stage my age is {}\".format(\"Swapnil\",21)"
   ]
  },
  {
   "cell_type": "code",
   "execution_count": 34,
   "id": "db6f2193",
   "metadata": {},
   "outputs": [
    {
     "data": {
      "text/plain": [
       "'My name is 21. At the stage my age is Swapnil'"
      ]
     },
     "execution_count": 34,
     "metadata": {},
     "output_type": "execute_result"
    }
   ],
   "source": [
    "\"My name is {age}. At the stage my age is {name}\".format(name=\"Swapnil\",age=21)"
   ]
  },
  {
   "cell_type": "markdown",
   "id": "955fcc5c",
   "metadata": {},
   "source": [
    "# 6.Split"
   ]
  },
  {
   "cell_type": "code",
   "execution_count": 35,
   "id": "9c18cf95",
   "metadata": {},
   "outputs": [
    {
     "data": {
      "text/plain": [
       "['It', 'is', 'famous', 'Country', 'which', 'is', 'India']"
      ]
     },
     "execution_count": 35,
     "metadata": {},
     "output_type": "execute_result"
    }
   ],
   "source": [
    "\"It is famous Country which is India\".split()"
   ]
  },
  {
   "cell_type": "code",
   "execution_count": 36,
   "id": "17ab4993",
   "metadata": {},
   "outputs": [
    {
     "data": {
      "text/plain": [
       "['It ', ' famous Country which ', ' India']"
      ]
     },
     "execution_count": 36,
     "metadata": {},
     "output_type": "execute_result"
    }
   ],
   "source": [
    "\"It is famous Country which is India\".split(\"is\")"
   ]
  },
  {
   "cell_type": "markdown",
   "id": "a8f7010d",
   "metadata": {},
   "source": [
    "# 7.Join"
   ]
  },
  {
   "cell_type": "code",
   "execution_count": 43,
   "id": "7c2e2dab",
   "metadata": {},
   "outputs": [
    {
     "data": {
      "text/plain": [
       "'It is famous Country which is India'"
      ]
     },
     "execution_count": 43,
     "metadata": {},
     "output_type": "execute_result"
    }
   ],
   "source": [
    "\" \".join(['It', 'is', 'famous', 'Country', 'which', 'is', 'India'])"
   ]
  },
  {
   "cell_type": "markdown",
   "id": "94c8f9f4",
   "metadata": {},
   "source": [
    "# 8.Replace"
   ]
  },
  {
   "cell_type": "code",
   "execution_count": 45,
   "id": "fbf0e112",
   "metadata": {},
   "outputs": [
    {
     "data": {
      "text/plain": [
       "'My name is Shree'"
      ]
     },
     "execution_count": 45,
     "metadata": {},
     "output_type": "execute_result"
    }
   ],
   "source": [
    "\"My name is Swapnil\".replace(\"Swapnil\",\"Shree\")"
   ]
  },
  {
   "cell_type": "markdown",
   "id": "9a073bbc",
   "metadata": {},
   "source": [
    "# 9.Strip"
   ]
  },
  {
   "cell_type": "code",
   "execution_count": 48,
   "id": "ebd172f7",
   "metadata": {},
   "outputs": [],
   "source": [
    "name=\"        Swapnil           \""
   ]
  },
  {
   "cell_type": "code",
   "execution_count": 49,
   "id": "6bdd9489",
   "metadata": {},
   "outputs": [
    {
     "data": {
      "text/plain": [
       "'Swapnil'"
      ]
     },
     "execution_count": 49,
     "metadata": {},
     "output_type": "execute_result"
    }
   ],
   "source": [
    "name.strip()"
   ]
  },
  {
   "cell_type": "code",
   "execution_count": null,
   "id": "e1437999",
   "metadata": {},
   "outputs": [],
   "source": []
  }
 ],
 "metadata": {
  "kernelspec": {
   "display_name": "Python 3 (ipykernel)",
   "language": "python",
   "name": "python3"
  },
  "language_info": {
   "codemirror_mode": {
    "name": "ipython",
    "version": 3
   },
   "file_extension": ".py",
   "mimetype": "text/x-python",
   "name": "python",
   "nbconvert_exporter": "python",
   "pygments_lexer": "ipython3",
   "version": "3.10.1"
  }
 },
 "nbformat": 4,
 "nbformat_minor": 5
}
