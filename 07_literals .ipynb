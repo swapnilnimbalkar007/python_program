{
 "cells": [
  {
   "cell_type": "markdown",
   "id": "1f84d174",
   "metadata": {},
   "source": [
    "# Literals "
   ]
  },
  {
   "cell_type": "markdown",
   "id": "9618a4a2",
   "metadata": {},
   "source": [
    "# in python we use various types of literals \n",
    "1.Numeric Literls\n",
    "2.Boolean Literls\n",
    "3.String Literls\n",
    "4.Special Literals"
   ]
  },
  {
   "cell_type": "markdown",
   "id": "9d3407a1",
   "metadata": {},
   "source": [
    "# 1.numerical literals"
   ]
  },
  {
   "cell_type": "code",
   "execution_count": 4,
   "id": "69c63478",
   "metadata": {},
   "outputs": [
    {
     "name": "stdout",
     "output_type": "stream",
     "text": [
      "10 100 200\n",
      "10.5 160.0 0.0015\n",
      "3.13j\n"
     ]
    }
   ],
   "source": [
    "a=0b1010 #Binary literals\n",
    "b=100 #Decimal Literal\n",
    "c=0o310 #Octal Literal\n",
    "\n",
    "#float Literal\n",
    "float_1= 10.5\n",
    "float_2= 1.6e2\n",
    "float_3= 1.5e-3\n",
    "\n",
    "#complex Literal\n",
    "x=3.13j\n",
    "\n",
    "print(a,b,c)\n",
    "print(float_1,float_2,float_3)\n",
    "print(x)"
   ]
  },
  {
   "cell_type": "markdown",
   "id": "db83786e",
   "metadata": {},
   "source": [
    "# 2.string Literals"
   ]
  },
  {
   "cell_type": "code",
   "execution_count": 10,
   "id": "89f55597",
   "metadata": {},
   "outputs": [
    {
     "name": "stdout",
     "output_type": "stream",
     "text": [
      "Welcome Swapnil\n",
      "This is Python Langauge\n",
      "This is our Pyhton Langauge\n",
      "C\n",
      "This is a multiline stringwith more one line code.\n"
     ]
    }
   ],
   "source": [
    "str= \"Welcome Swapnil\"\n",
    "string= 'This is Python Langauge'\n",
    "strings= \"This is our Pyhton Langauge\"\n",
    "char= \"C\"\n",
    "multiline_str=\"\"\"This is a multiline stringwith more one line code.\"\"\"\n",
    "\n",
    "print(str)\n",
    "print(string)\n",
    "print(strings)\n",
    "print(char)\n",
    "print(multiline_str)"
   ]
  },
  {
   "cell_type": "markdown",
   "id": "8d3af6b2",
   "metadata": {},
   "source": [
    "# 3.Boolean Literal"
   ]
  },
  {
   "cell_type": "code",
   "execution_count": 12,
   "id": "67db2042",
   "metadata": {},
   "outputs": [
    {
     "name": "stdout",
     "output_type": "stream",
     "text": [
      "a: 8\n",
      "b: 10\n"
     ]
    }
   ],
   "source": [
    "a= True+7\n",
    "b= False+10\n",
    "\n",
    "print(\"a:\", a)\n",
    "print(\"b:\", b)"
   ]
  },
  {
   "cell_type": "markdown",
   "id": "c026be3d",
   "metadata": {},
   "source": [
    "# 4.Special Literal"
   ]
  },
  {
   "cell_type": "code",
   "execution_count": 14,
   "id": "172507cb",
   "metadata": {},
   "outputs": [
    {
     "name": "stdout",
     "output_type": "stream",
     "text": [
      "None\n"
     ]
    }
   ],
   "source": [
    "a=None\n",
    "print(a)"
   ]
  },
  {
   "cell_type": "code",
   "execution_count": 15,
   "id": "1987c6d2",
   "metadata": {},
   "outputs": [],
   "source": [
    "c=34+35"
   ]
  },
  {
   "cell_type": "code",
   "execution_count": 16,
   "id": "dd5a072e",
   "metadata": {},
   "outputs": [
    {
     "name": "stdout",
     "output_type": "stream",
     "text": [
      "69\n"
     ]
    }
   ],
   "source": [
    "print(c)"
   ]
  },
  {
   "cell_type": "code",
   "execution_count": 17,
   "id": "6a86adde",
   "metadata": {},
   "outputs": [
    {
     "name": "stdout",
     "output_type": "stream",
     "text": [
      "None\n"
     ]
    }
   ],
   "source": [
    "#variable Declare\n",
    "k=None\n",
    "print(k)"
   ]
  },
  {
   "cell_type": "code",
   "execution_count": null,
   "id": "76a9fa90",
   "metadata": {},
   "outputs": [],
   "source": []
  }
 ],
 "metadata": {
  "kernelspec": {
   "display_name": "Python 3 (ipykernel)",
   "language": "python",
   "name": "python3"
  },
  "language_info": {
   "codemirror_mode": {
    "name": "ipython",
    "version": 3
   },
   "file_extension": ".py",
   "mimetype": "text/x-python",
   "name": "python",
   "nbconvert_exporter": "python",
   "pygments_lexer": "ipython3",
   "version": "3.10.1"
  }
 },
 "nbformat": 4,
 "nbformat_minor": 5
}
