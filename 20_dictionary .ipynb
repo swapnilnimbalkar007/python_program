{
 "cells": [
  {
   "cell_type": "markdown",
   "id": "59cf69c4",
   "metadata": {},
   "source": [
    "# Dictionary "
   ]
  },
  {
   "cell_type": "markdown",
   "id": "89b1893a",
   "metadata": {},
   "source": [
    "# Key:Value pairs"
   ]
  },
  {
   "cell_type": "code",
   "execution_count": 7,
   "id": "8f157a5c",
   "metadata": {},
   "outputs": [
    {
     "name": "stdout",
     "output_type": "stream",
     "text": [
      "{'Name': 'Swapnil ', 'Age': 21}\n"
     ]
    }
   ],
   "source": [
    "D={\"Name\":\"Swapnil \",\"Age\": 21}\n",
    "print(D)"
   ]
  },
  {
   "cell_type": "code",
   "execution_count": null,
   "id": "a390c3d3",
   "metadata": {},
   "outputs": [],
   "source": [
    "##Dictonary has no indexing"
   ]
  },
  {
   "cell_type": "code",
   "execution_count": 8,
   "id": "11b11675",
   "metadata": {},
   "outputs": [],
   "source": [
    "##Dictionay is a mutable type"
   ]
  },
  {
   "cell_type": "code",
   "execution_count": 10,
   "id": "3b9f3659",
   "metadata": {},
   "outputs": [],
   "source": [
    "##keys are immutable and values are mutable"
   ]
  },
  {
   "cell_type": "code",
   "execution_count": 13,
   "id": "a08d3d3a",
   "metadata": {},
   "outputs": [],
   "source": [
    "##key should be unique"
   ]
  },
  {
   "cell_type": "code",
   "execution_count": 14,
   "id": "04489920",
   "metadata": {},
   "outputs": [],
   "source": [
    "#mutable-->set/list/dictionary\n",
    "#immutable-->string/tuple/int/float/boolean/complex"
   ]
  },
  {
   "cell_type": "code",
   "execution_count": 1,
   "id": "600f7507",
   "metadata": {},
   "outputs": [
    {
     "data": {
      "text/plain": [
       "dict"
      ]
     },
     "execution_count": 1,
     "metadata": {},
     "output_type": "execute_result"
    }
   ],
   "source": [
    "S={}\n",
    "type(S)"
   ]
  },
  {
   "cell_type": "code",
   "execution_count": null,
   "id": "f7dc27fa",
   "metadata": {},
   "outputs": [],
   "source": [
    "#acess method is also called get() method"
   ]
  },
  {
   "cell_type": "code",
   "execution_count": 2,
   "id": "be278acd",
   "metadata": {},
   "outputs": [
    {
     "data": {
      "text/plain": [
       "{(1, 3, 4), 'Swapnil'}"
      ]
     },
     "execution_count": 2,
     "metadata": {},
     "output_type": "execute_result"
    }
   ],
   "source": [
    "D={\"Swapnil\",(1,3,4)}\n",
    "D"
   ]
  },
  {
   "cell_type": "code",
   "execution_count": 3,
   "id": "562372ed",
   "metadata": {},
   "outputs": [
    {
     "data": {
      "text/plain": [
       "{'Name': 'Shree'}"
      ]
     },
     "execution_count": 3,
     "metadata": {},
     "output_type": "execute_result"
    }
   ],
   "source": [
    "D={\"Name\":\"Swapnil\",\"Name\":\"Shree\"}\n",
    "D"
   ]
  },
  {
   "cell_type": "code",
   "execution_count": 21,
   "id": "b9426bc5",
   "metadata": {},
   "outputs": [
    {
     "data": {
      "text/plain": [
       "{'Name': 'Swapnil',\n",
       " 'Class': 'BE',\n",
       " 'College': \"SVPM's COE\",\n",
       " 'Marks': {'DSA': 67, 'Java': 87}}"
      ]
     },
     "execution_count": 21,
     "metadata": {},
     "output_type": "execute_result"
    }
   ],
   "source": [
    "D1={\"Name\":\"Swapnil\",\"Class\":\"BE\",\"College\":\"SVPM's COE\",\"Marks\":{\"DSA\":67, \"Java\":87}}\n",
    "D1"
   ]
  },
  {
   "cell_type": "code",
   "execution_count": 22,
   "id": "cd13648b",
   "metadata": {},
   "outputs": [],
   "source": [
    "D={'Name':'Swapnil','Gender':'Male'}"
   ]
  },
  {
   "cell_type": "code",
   "execution_count": 23,
   "id": "bcfc62cf",
   "metadata": {},
   "outputs": [
    {
     "data": {
      "text/plain": [
       "{'Name': 'Swapnil', 'Gender': 'Male'}"
      ]
     },
     "execution_count": 23,
     "metadata": {},
     "output_type": "execute_result"
    }
   ],
   "source": [
    "D"
   ]
  },
  {
   "cell_type": "code",
   "execution_count": 25,
   "id": "85fde43d",
   "metadata": {},
   "outputs": [
    {
     "data": {
      "text/plain": [
       "{'Name': 'Shree', 'Gender': 'Male'}"
      ]
     },
     "execution_count": 25,
     "metadata": {},
     "output_type": "execute_result"
    }
   ],
   "source": [
    "D['Name']='Shree'\n",
    "D"
   ]
  },
  {
   "cell_type": "code",
   "execution_count": 27,
   "id": "10ab1ad2",
   "metadata": {},
   "outputs": [
    {
     "data": {
      "text/plain": [
       "67"
      ]
     },
     "execution_count": 27,
     "metadata": {},
     "output_type": "execute_result"
    }
   ],
   "source": [
    "D1['Marks']['DSA']"
   ]
  },
  {
   "cell_type": "code",
   "execution_count": 28,
   "id": "b5050a4f",
   "metadata": {},
   "outputs": [
    {
     "data": {
      "text/plain": [
       "'Swapnil'"
      ]
     },
     "execution_count": 28,
     "metadata": {},
     "output_type": "execute_result"
    }
   ],
   "source": [
    "D1['Name']"
   ]
  },
  {
   "cell_type": "code",
   "execution_count": 30,
   "id": "7fd0ef94",
   "metadata": {},
   "outputs": [
    {
     "data": {
      "text/plain": [
       "'Shree'"
      ]
     },
     "execution_count": 30,
     "metadata": {},
     "output_type": "execute_result"
    }
   ],
   "source": [
    "D.get('Name')"
   ]
  },
  {
   "cell_type": "code",
   "execution_count": 32,
   "id": "e0394197",
   "metadata": {},
   "outputs": [
    {
     "data": {
      "text/plain": [
       "'Swapnil'"
      ]
     },
     "execution_count": 32,
     "metadata": {},
     "output_type": "execute_result"
    }
   ],
   "source": [
    "D1.get('Name')"
   ]
  },
  {
   "cell_type": "code",
   "execution_count": 35,
   "id": "db903136",
   "metadata": {},
   "outputs": [
    {
     "data": {
      "text/plain": [
       "'BE'"
      ]
     },
     "execution_count": 35,
     "metadata": {},
     "output_type": "execute_result"
    }
   ],
   "source": [
    "D1['Class']"
   ]
  },
  {
   "cell_type": "code",
   "execution_count": 37,
   "id": "718370b0",
   "metadata": {},
   "outputs": [
    {
     "ename": "NameError",
     "evalue": "name 'D1' is not defined",
     "output_type": "error",
     "traceback": [
      "\u001b[1;31m---------------------------------------------------------------------------\u001b[0m",
      "\u001b[1;31mNameError\u001b[0m                                 Traceback (most recent call last)",
      "Cell \u001b[1;32mIn[37], line 1\u001b[0m\n\u001b[1;32m----> 1\u001b[0m \u001b[38;5;28;01mdel\u001b[39;00m D1\n\u001b[0;32m      2\u001b[0m D1\n",
      "\u001b[1;31mNameError\u001b[0m: name 'D1' is not defined"
     ]
    }
   ],
   "source": [
    "del D1\n",
    "D1"
   ]
  },
  {
   "cell_type": "code",
   "execution_count": 39,
   "id": "a134c976",
   "metadata": {},
   "outputs": [
    {
     "ename": "NameError",
     "evalue": "name 'D1' is not defined",
     "output_type": "error",
     "traceback": [
      "\u001b[1;31m---------------------------------------------------------------------------\u001b[0m",
      "\u001b[1;31mNameError\u001b[0m                                 Traceback (most recent call last)",
      "Cell \u001b[1;32mIn[39], line 1\u001b[0m\n\u001b[1;32m----> 1\u001b[0m \u001b[38;5;28;01mdel\u001b[39;00m \u001b[43mD1\u001b[49m[\u001b[38;5;124m'\u001b[39m\u001b[38;5;124mClass\u001b[39m\u001b[38;5;124m'\u001b[39m]\n\u001b[0;32m      2\u001b[0m D1\n",
      "\u001b[1;31mNameError\u001b[0m: name 'D1' is not defined"
     ]
    }
   ],
   "source": [
    "del D1['Class']\n",
    "D1"
   ]
  },
  {
   "cell_type": "code",
   "execution_count": 41,
   "id": "a368bf42",
   "metadata": {},
   "outputs": [
    {
     "data": {
      "text/plain": [
       "{'Name': 'Shree', 'Gender': 'Male'}"
      ]
     },
     "execution_count": 41,
     "metadata": {},
     "output_type": "execute_result"
    }
   ],
   "source": [
    "D"
   ]
  },
  {
   "cell_type": "code",
   "execution_count": 43,
   "id": "6d174b79",
   "metadata": {},
   "outputs": [
    {
     "name": "stdout",
     "output_type": "stream",
     "text": [
      "Name\n",
      "Gender\n"
     ]
    }
   ],
   "source": [
    "for i in D:\n",
    "    print(i)"
   ]
  },
  {
   "cell_type": "code",
   "execution_count": 44,
   "id": "c4042426",
   "metadata": {},
   "outputs": [
    {
     "data": {
      "text/plain": [
       "False"
      ]
     },
     "execution_count": 44,
     "metadata": {},
     "output_type": "execute_result"
    }
   ],
   "source": [
    "'Shree' in D"
   ]
  },
  {
   "cell_type": "code",
   "execution_count": 45,
   "id": "145e3c37",
   "metadata": {},
   "outputs": [
    {
     "data": {
      "text/plain": [
       "False"
      ]
     },
     "execution_count": 45,
     "metadata": {},
     "output_type": "execute_result"
    }
   ],
   "source": [
    "'Swapnil' in D"
   ]
  },
  {
   "cell_type": "code",
   "execution_count": 46,
   "id": "c2db314c",
   "metadata": {},
   "outputs": [
    {
     "data": {
      "text/plain": [
       "2"
      ]
     },
     "execution_count": 46,
     "metadata": {},
     "output_type": "execute_result"
    }
   ],
   "source": [
    "len(D)"
   ]
  },
  {
   "cell_type": "code",
   "execution_count": 47,
   "id": "71ec9171",
   "metadata": {},
   "outputs": [
    {
     "data": {
      "text/plain": [
       "'Gender'"
      ]
     },
     "execution_count": 47,
     "metadata": {},
     "output_type": "execute_result"
    }
   ],
   "source": [
    "min(D)"
   ]
  },
  {
   "cell_type": "code",
   "execution_count": 48,
   "id": "37aa616a",
   "metadata": {},
   "outputs": [
    {
     "data": {
      "text/plain": [
       "'Name'"
      ]
     },
     "execution_count": 48,
     "metadata": {},
     "output_type": "execute_result"
    }
   ],
   "source": [
    "max(D)"
   ]
  },
  {
   "cell_type": "code",
   "execution_count": 50,
   "id": "e439ad2f",
   "metadata": {},
   "outputs": [
    {
     "data": {
      "text/plain": [
       "['Gender', 'Name']"
      ]
     },
     "execution_count": 50,
     "metadata": {},
     "output_type": "execute_result"
    }
   ],
   "source": [
    "sorted(D)"
   ]
  },
  {
   "cell_type": "code",
   "execution_count": 52,
   "id": "3326456f",
   "metadata": {},
   "outputs": [
    {
     "data": {
      "text/plain": [
       "['Name', 'Gender']"
      ]
     },
     "execution_count": 52,
     "metadata": {},
     "output_type": "execute_result"
    }
   ],
   "source": [
    "sorted(D,reverse=True)"
   ]
  },
  {
   "cell_type": "code",
   "execution_count": null,
   "id": "e83a6407",
   "metadata": {},
   "outputs": [],
   "source": []
  }
 ],
 "metadata": {
  "kernelspec": {
   "display_name": "Python 3 (ipykernel)",
   "language": "python",
   "name": "python3"
  },
  "language_info": {
   "codemirror_mode": {
    "name": "ipython",
    "version": 3
   },
   "file_extension": ".py",
   "mimetype": "text/x-python",
   "name": "python",
   "nbconvert_exporter": "python",
   "pygments_lexer": "ipython3",
   "version": "3.10.1"
  }
 },
 "nbformat": 4,
 "nbformat_minor": 5
}
