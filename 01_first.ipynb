{
 "cells": [
  {
   "cell_type": "markdown",
   "id": "e8313035",
   "metadata": {},
   "source": [
    "## This is my python first code"
   ]
  },
  {
   "cell_type": "code",
   "execution_count": 20,
   "id": "12004d51",
   "metadata": {},
   "outputs": [
    {
     "name": "stdout",
     "output_type": "stream",
     "text": [
      "Hello World\n"
     ]
    }
   ],
   "source": [
    "print('Hello World')"
   ]
  },
  {
   "cell_type": "code",
   "execution_count": 2,
   "id": "383529a5",
   "metadata": {},
   "outputs": [
    {
     "name": "stdout",
     "output_type": "stream",
     "text": [
      "8\n"
     ]
    }
   ],
   "source": [
    "print(8)"
   ]
  },
  {
   "cell_type": "code",
   "execution_count": 3,
   "id": "fdbf3ea9",
   "metadata": {},
   "outputs": [
    {
     "name": "stdout",
     "output_type": "stream",
     "text": [
      "4.5\n"
     ]
    }
   ],
   "source": [
    "print(4.5)"
   ]
  },
  {
   "cell_type": "code",
   "execution_count": 4,
   "id": "c09a6c9e",
   "metadata": {},
   "outputs": [
    {
     "name": "stdout",
     "output_type": "stream",
     "text": [
      "True\n"
     ]
    }
   ],
   "source": [
    "print(True)"
   ]
  },
  {
   "cell_type": "code",
   "execution_count": 5,
   "id": "5196c9a4",
   "metadata": {},
   "outputs": [
    {
     "name": "stdout",
     "output_type": "stream",
     "text": [
      "False\n"
     ]
    }
   ],
   "source": [
    "print(False)"
   ]
  },
  {
   "cell_type": "code",
   "execution_count": 6,
   "id": "c53b19f0",
   "metadata": {},
   "outputs": [
    {
     "name": "stdout",
     "output_type": "stream",
     "text": [
      "india Pakistan America  United state United Kingdom \n"
     ]
    }
   ],
   "source": [
    "print('india', 'Pakistan', 'America ', 'United state', 'United Kingdom ')"
   ]
  },
  {
   "cell_type": "code",
   "execution_count": 7,
   "id": "eb73dc55",
   "metadata": {},
   "outputs": [
    {
     "name": "stdout",
     "output_type": "stream",
     "text": [
      "91 India\n"
     ]
    }
   ],
   "source": [
    "print(+91, 'India')"
   ]
  },
  {
   "cell_type": "code",
   "execution_count": 13,
   "id": "1fae1c51",
   "metadata": {},
   "outputs": [
    {
     "name": "stdout",
     "output_type": "stream",
     "text": [
      "india/Pakistan/America /United state/United Kingdom\n"
     ]
    }
   ],
   "source": [
    "print('india', 'Pakistan', 'America ', 'United state', 'United Kingdom', sep='/')"
   ]
  },
  {
   "cell_type": "code",
   "execution_count": 14,
   "id": "5e62f25f",
   "metadata": {},
   "outputs": [
    {
     "name": "stdout",
     "output_type": "stream",
     "text": [
      "india-Pakistan-America -United state-United Kingdom\n"
     ]
    }
   ],
   "source": [
    "print('india', 'Pakistan', 'America ', 'United state', 'United Kingdom', sep='-')"
   ]
  },
  {
   "cell_type": "code",
   "execution_count": 16,
   "id": "bd2b37d1",
   "metadata": {},
   "outputs": [
    {
     "name": "stdout",
     "output_type": "stream",
     "text": [
      "Hello\n",
      "World\n"
     ]
    }
   ],
   "source": [
    "print('Hello')\n",
    "print('World')"
   ]
  },
  {
   "cell_type": "code",
   "execution_count": 19,
   "id": "bc61c8d7",
   "metadata": {},
   "outputs": [
    {
     "name": "stdout",
     "output_type": "stream",
     "text": [
      "Hello Swapnil\n"
     ]
    }
   ],
   "source": [
    "print('Hello',end=\" \")\n",
    "print('Swapnil')"
   ]
  },
  {
   "cell_type": "code",
   "execution_count": null,
   "id": "96f65000",
   "metadata": {},
   "outputs": [],
   "source": []
  }
 ],
 "metadata": {
  "kernelspec": {
   "display_name": "Python 3 (ipykernel)",
   "language": "python",
   "name": "python3"
  },
  "language_info": {
   "codemirror_mode": {
    "name": "ipython",
    "version": 3
   },
   "file_extension": ".py",
   "mimetype": "text/x-python",
   "name": "python",
   "nbconvert_exporter": "python",
   "pygments_lexer": "ipython3",
   "version": "3.10.1"
  }
 },
 "nbformat": 4,
 "nbformat_minor": 5
}
