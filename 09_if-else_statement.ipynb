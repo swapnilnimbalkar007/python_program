{
 "cells": [
  {
   "cell_type": "markdown",
   "id": "1681d6e9",
   "metadata": {},
   "source": [
    "# if-else statement"
   ]
  },
  {
   "cell_type": "code",
   "execution_count": 2,
   "id": "df9c2676",
   "metadata": {},
   "outputs": [
    {
     "name": "stdout",
     "output_type": "stream",
     "text": [
      "Enter your nameSanket\n",
      "Sorry\n"
     ]
    }
   ],
   "source": [
    "name= input(\"Enter your name\")\n",
    "\n",
    "if name==\"Swapnil\":\n",
    "    print(\"Welcome\")\n",
    "else:\n",
    "    print(\"Sorry\")"
   ]
  },
  {
   "cell_type": "code",
   "execution_count": 3,
   "id": "fe2252dd",
   "metadata": {},
   "outputs": [
    {
     "name": "stdout",
     "output_type": "stream",
     "text": [
      "Enter Your Emailswapnilnimbalkar202@gmail.com\n",
      "Enter Your PasswordSwapnil@4201\n",
      "Welcome Swapnil\n"
     ]
    }
   ],
   "source": [
    "email=input(\"Enter Your Email\")\n",
    "password=input(\"Enter Your Password\")\n",
    "\n",
    "if email==\"swapnilnimbalkar202@gmail.com\" and password==\"Swapnil@4201\":\n",
    "    print(\"Welcome Swapnil\")\n",
    "else:\n",
    "    print(\"Invalid Login\")\n"
   ]
  },
  {
   "cell_type": "code",
   "execution_count": null,
   "id": "4b2f9b44",
   "metadata": {},
   "outputs": [],
   "source": [
    "email=input(\"Enter Your Email\")\n",
    "password=input(\"Enter Your Password\")\n",
    "\n",
    "if email==\"swapnilnimbalkar202@gmail.com\" and password==\"Swapnil@4201\":\n",
    "    print(\"Welcome Swapnil\")\n",
    "    \n",
    "elif email!=\"swapnilnimbalkar202@gmail.com\": \n",
    "    print(\"Please Enter Correct Email\")\n",
    "    \n",
    "elif password!=\"Swapnil@4201\":\n",
    "    print(\"Please Enter Correct Password\")\n",
    "    \n",
    "elif email==\"swapnilnimbalkar202@gmail.com\" and password != \"Swapnil@4201\":\n",
    "    print(\"Please Enter Correct password\")\n",
    "else:\n",
    "    print(\"Invalid Credentials \")"
   ]
  },
  {
   "cell_type": "code",
   "execution_count": null,
   "id": "0e2efb00",
   "metadata": {},
   "outputs": [],
   "source": [
    "email input(\"Enter Email\")\n",
    "if @ in email:\n",
    "        \n",
    "    if email==\"swapnilnimbalkar202@gmail.com\" and password==\"Swapnil@4201\":\n",
    "    print(\"Welcome Swapnil\")\n",
    "\n",
    "    elif email!=\"swapnilnimbalkar202@gmail.com\": \n",
    "    print(\"Please Enter Correct Email\")\n",
    "\n",
    "    elif password!=\"Swapnil@4201\":\n",
    "    print(\"Please Enter Correct Password\")\n",
    "\n",
    "    elif email==\"swapnilnimbalkar202@gmail.com\" and password != \"Swapnil@4201\":\n",
    "    print(\"Please Enter Correct password\")\n",
    "    else:\n",
    "    print(\"Invalid Credentials \")\n",
    "    \n",
    "else:\n",
    "    print(\"Invalid Login\")"
   ]
  },
  {
   "cell_type": "code",
   "execution_count": null,
   "id": "8cbfe83a",
   "metadata": {},
   "outputs": [],
   "source": [
    "email input(\"Enter Email\")\n",
    "if @ in email:\n",
    "    else:\n",
    "        print(\"Invalid Email\");"
   ]
  },
  {
   "cell_type": "code",
   "execution_count": null,
   "id": "fb381114",
   "metadata": {},
   "outputs": [],
   "source": []
  }
 ],
 "metadata": {
  "kernelspec": {
   "display_name": "Python 3 (ipykernel)",
   "language": "python",
   "name": "python3"
  },
  "language_info": {
   "codemirror_mode": {
    "name": "ipython",
    "version": 3
   },
   "file_extension": ".py",
   "mimetype": "text/x-python",
   "name": "python",
   "nbconvert_exporter": "python",
   "pygments_lexer": "ipython3",
   "version": "3.10.1"
  }
 },
 "nbformat": 4,
 "nbformat_minor": 5
}
