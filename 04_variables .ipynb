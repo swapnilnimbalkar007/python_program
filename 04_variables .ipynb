{
 "cells": [
  {
   "cell_type": "markdown",
   "id": "ff19915b",
   "metadata": {},
   "source": [
    "# Variables "
   ]
  },
  {
   "cell_type": "code",
   "execution_count": 6,
   "id": "0f072685",
   "metadata": {},
   "outputs": [],
   "source": [
    "#c++ Language\n",
    "#int a=5"
   ]
  },
  {
   "cell_type": "code",
   "execution_count": 7,
   "id": "730a0465",
   "metadata": {},
   "outputs": [],
   "source": [
    "name='Swapnil'"
   ]
  },
  {
   "cell_type": "code",
   "execution_count": 8,
   "id": "3ede80d3",
   "metadata": {},
   "outputs": [
    {
     "name": "stdout",
     "output_type": "stream",
     "text": [
      "Swapnil\n"
     ]
    }
   ],
   "source": [
    "print(name)"
   ]
  },
  {
   "cell_type": "markdown",
   "id": "ace5c701",
   "metadata": {},
   "source": [
    "# In the python no need to declare the varibales we can directly type varibales"
   ]
  },
  {
   "cell_type": "code",
   "execution_count": 10,
   "id": "27c13031",
   "metadata": {},
   "outputs": [],
   "source": [
    "#This type is called Dynamic Typing: Means .py is alredy now which data types we put thier - pyhton, PHP"
   ]
  },
  {
   "cell_type": "code",
   "execution_count": 11,
   "id": "182f21f1",
   "metadata": {},
   "outputs": [],
   "source": [
    "#Static Typing: Here we need to declare the varibale - c, c++, Java"
   ]
  },
  {
   "cell_type": "code",
   "execution_count": 12,
   "id": "5df87aab",
   "metadata": {},
   "outputs": [
    {
     "name": "stdout",
     "output_type": "stream",
     "text": [
      "Swapnil\n"
     ]
    }
   ],
   "source": [
    "print(name)"
   ]
  },
  {
   "cell_type": "code",
   "execution_count": 13,
   "id": "6da046e1",
   "metadata": {},
   "outputs": [],
   "source": [
    "name=3"
   ]
  },
  {
   "cell_type": "code",
   "execution_count": 14,
   "id": "5475d5f8",
   "metadata": {},
   "outputs": [
    {
     "name": "stdout",
     "output_type": "stream",
     "text": [
      "3\n"
     ]
    }
   ],
   "source": [
    "print(name)"
   ]
  },
  {
   "cell_type": "code",
   "execution_count": 15,
   "id": "3ef32a7d",
   "metadata": {},
   "outputs": [
    {
     "name": "stdout",
     "output_type": "stream",
     "text": [
      "True\n"
     ]
    }
   ],
   "source": [
    "name=True\n",
    "print(name)"
   ]
  },
  {
   "cell_type": "code",
   "execution_count": 20,
   "id": "a9ec03c1",
   "metadata": {},
   "outputs": [
    {
     "name": "stdout",
     "output_type": "stream",
     "text": [
      "2\n",
      "4\n",
      "9\n"
     ]
    }
   ],
   "source": [
    "a=2;b=4;c=9\n",
    "print(a)\n",
    "print(b)\n",
    "print(c)"
   ]
  },
  {
   "cell_type": "code",
   "execution_count": 21,
   "id": "e303cd02",
   "metadata": {},
   "outputs": [
    {
     "name": "stdout",
     "output_type": "stream",
     "text": [
      "2 6 8\n"
     ]
    }
   ],
   "source": [
    "a=2;b=6;c=8\n",
    "print(a,b,c)"
   ]
  },
  {
   "cell_type": "code",
   "execution_count": 22,
   "id": "11c30845",
   "metadata": {},
   "outputs": [
    {
     "name": "stdout",
     "output_type": "stream",
     "text": [
      "10 10 10\n"
     ]
    }
   ],
   "source": [
    "a=b=c=10\n",
    "print(a,b,c)"
   ]
  },
  {
   "cell_type": "code",
   "execution_count": null,
   "id": "d0c59ddc",
   "metadata": {},
   "outputs": [],
   "source": []
  }
 ],
 "metadata": {
  "kernelspec": {
   "display_name": "Python 3 (ipykernel)",
   "language": "python",
   "name": "python3"
  },
  "language_info": {
   "codemirror_mode": {
    "name": "ipython",
    "version": 3
   },
   "file_extension": ".py",
   "mimetype": "text/x-python",
   "name": "python",
   "nbconvert_exporter": "python",
   "pygments_lexer": "ipython3",
   "version": "3.10.1"
  }
 },
 "nbformat": 4,
 "nbformat_minor": 5
}
