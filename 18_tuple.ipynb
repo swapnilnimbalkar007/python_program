{
 "cells": [
  {
   "cell_type": "markdown",
   "id": "28639425",
   "metadata": {},
   "source": [
    "# Tuple"
   ]
  },
  {
   "cell_type": "code",
   "execution_count": 1,
   "id": "802565c1",
   "metadata": {},
   "outputs": [],
   "source": [
    "##Python is similar to list "
   ]
  },
  {
   "cell_type": "markdown",
   "id": "7769337e",
   "metadata": {},
   "source": [
    "# create"
   ]
  },
  {
   "cell_type": "code",
   "execution_count": 2,
   "id": "1ba4c9f9",
   "metadata": {},
   "outputs": [
    {
     "data": {
      "text/plain": [
       "{}"
      ]
     },
     "execution_count": 2,
     "metadata": {},
     "output_type": "execute_result"
    }
   ],
   "source": [
    "T={}\n",
    "T"
   ]
  },
  {
   "cell_type": "code",
   "execution_count": 5,
   "id": "cea3bc29",
   "metadata": {},
   "outputs": [
    {
     "data": {
      "text/plain": [
       "{1, 2, 4, 5}"
      ]
     },
     "execution_count": 5,
     "metadata": {},
     "output_type": "execute_result"
    }
   ],
   "source": [
    "T1={1,2,4,4,5}\n",
    "T1"
   ]
  },
  {
   "cell_type": "code",
   "execution_count": 4,
   "id": "43251fec",
   "metadata": {},
   "outputs": [
    {
     "data": {
      "text/plain": [
       "{1, 14, 3, 3.5, 'Hello'}"
      ]
     },
     "execution_count": 4,
     "metadata": {},
     "output_type": "execute_result"
    }
   ],
   "source": [
    "T1={1,3,\"Hello\",3.5,14}\n",
    "T1"
   ]
  },
  {
   "cell_type": "code",
   "execution_count": 8,
   "id": "9bf410ff",
   "metadata": {},
   "outputs": [
    {
     "data": {
      "text/plain": [
       "{1, 14, 3, 35, 'Hello'}"
      ]
     },
     "execution_count": 8,
     "metadata": {},
     "output_type": "execute_result"
    }
   ],
   "source": [
    "T1={1,3,\"Hello\",(35),(14)}\n",
    "T1"
   ]
  },
  {
   "cell_type": "code",
   "execution_count": 9,
   "id": "e290bd2c",
   "metadata": {},
   "outputs": [
    {
     "data": {
      "text/plain": [
       "1"
      ]
     },
     "execution_count": 9,
     "metadata": {},
     "output_type": "execute_result"
    }
   ],
   "source": [
    "T1=(1)\n",
    "T1"
   ]
  },
  {
   "cell_type": "code",
   "execution_count": 10,
   "id": "4d60b3fa",
   "metadata": {},
   "outputs": [
    {
     "data": {
      "text/plain": [
       "int"
      ]
     },
     "execution_count": 10,
     "metadata": {},
     "output_type": "execute_result"
    }
   ],
   "source": [
    "type(T1)"
   ]
  },
  {
   "cell_type": "code",
   "execution_count": 11,
   "id": "ea9e41be",
   "metadata": {},
   "outputs": [
    {
     "data": {
      "text/plain": [
       "set"
      ]
     },
     "execution_count": 11,
     "metadata": {},
     "output_type": "execute_result"
    }
   ],
   "source": [
    "T1={1,3,\"Hello\",(35),(14)}\n",
    "type(T1)"
   ]
  },
  {
   "cell_type": "code",
   "execution_count": 13,
   "id": "42b983e5",
   "metadata": {},
   "outputs": [
    {
     "data": {
      "text/plain": [
       "type[{'Hello'}]"
      ]
     },
     "execution_count": 13,
     "metadata": {},
     "output_type": "execute_result"
    }
   ],
   "source": [
    "T1={\"Hello\",}\n",
    "type[T1]"
   ]
  },
  {
   "cell_type": "markdown",
   "id": "6bd94685",
   "metadata": {},
   "source": [
    "# access"
   ]
  },
  {
   "cell_type": "code",
   "execution_count": 21,
   "id": "1d2e47c6",
   "metadata": {},
   "outputs": [
    {
     "data": {
      "text/plain": [
       "1"
      ]
     },
     "execution_count": 21,
     "metadata": {},
     "output_type": "execute_result"
    }
   ],
   "source": [
    "T1=[1,2,4,4,5]\n",
    "T1[0]"
   ]
  },
  {
   "cell_type": "code",
   "execution_count": 22,
   "id": "bb37a4ae",
   "metadata": {},
   "outputs": [
    {
     "data": {
      "text/plain": [
       "[1, 2, 4, 4]"
      ]
     },
     "execution_count": 22,
     "metadata": {},
     "output_type": "execute_result"
    }
   ],
   "source": [
    "T1[:4]"
   ]
  },
  {
   "cell_type": "code",
   "execution_count": 23,
   "id": "e7ef2184",
   "metadata": {},
   "outputs": [
    {
     "data": {
      "text/plain": [
       "4"
      ]
     },
     "execution_count": 23,
     "metadata": {},
     "output_type": "execute_result"
    }
   ],
   "source": [
    "T1[-2]"
   ]
  },
  {
   "cell_type": "markdown",
   "id": "40c79484",
   "metadata": {},
   "source": [
    "# edit"
   ]
  },
  {
   "cell_type": "code",
   "execution_count": 28,
   "id": "3423d690",
   "metadata": {},
   "outputs": [
    {
     "ename": "TypeError",
     "evalue": "'set' object does not support item assignment",
     "output_type": "error",
     "traceback": [
      "\u001b[1;31m---------------------------------------------------------------------------\u001b[0m",
      "\u001b[1;31mTypeError\u001b[0m                                 Traceback (most recent call last)",
      "Cell \u001b[1;32mIn[28], line 2\u001b[0m\n\u001b[0;32m      1\u001b[0m T1\u001b[38;5;241m=\u001b[39m{\u001b[38;5;241m1\u001b[39m,\u001b[38;5;241m2\u001b[39m,\u001b[38;5;241m4\u001b[39m,\u001b[38;5;241m4\u001b[39m,\u001b[38;5;241m5\u001b[39m}\n\u001b[1;32m----> 2\u001b[0m \u001b[43mT1\u001b[49m\u001b[43m[\u001b[49m\u001b[38;5;241;43m0\u001b[39;49m\u001b[43m]\u001b[49m\u001b[38;5;241m=\u001b[39m\u001b[38;5;241m100\u001b[39m\n\u001b[0;32m      3\u001b[0m T1\n",
      "\u001b[1;31mTypeError\u001b[0m: 'set' object does not support item assignment"
     ]
    }
   ],
   "source": [
    "T1={1,2,4,4,5}\n",
    "T1[0]=100\n",
    "T1"
   ]
  },
  {
   "cell_type": "code",
   "execution_count": 29,
   "id": "785bb7b0",
   "metadata": {},
   "outputs": [
    {
     "ename": "TypeError",
     "evalue": "'set' object does not support item assignment",
     "output_type": "error",
     "traceback": [
      "\u001b[1;31m---------------------------------------------------------------------------\u001b[0m",
      "\u001b[1;31mTypeError\u001b[0m                                 Traceback (most recent call last)",
      "Cell \u001b[1;32mIn[29], line 1\u001b[0m\n\u001b[1;32m----> 1\u001b[0m \u001b[43mT1\u001b[49m\u001b[43m[\u001b[49m\u001b[38;5;241;43m3\u001b[39;49m\u001b[43m]\u001b[49m\u001b[38;5;241m=\u001b[39m\u001b[38;5;241m100\u001b[39m\n\u001b[0;32m      2\u001b[0m T1\n",
      "\u001b[1;31mTypeError\u001b[0m: 'set' object does not support item assignment"
     ]
    }
   ],
   "source": [
    "T1[3]=100\n",
    "T1"
   ]
  },
  {
   "cell_type": "markdown",
   "id": "27995f6d",
   "metadata": {},
   "source": [
    "# tuple are just like immutable"
   ]
  },
  {
   "cell_type": "markdown",
   "id": "619f3c86",
   "metadata": {},
   "source": [
    "# you cant edit the tuple"
   ]
  },
  {
   "cell_type": "code",
   "execution_count": 30,
   "id": "28d5f460",
   "metadata": {},
   "outputs": [],
   "source": [
    "#add? no"
   ]
  },
  {
   "cell_type": "code",
   "execution_count": 31,
   "id": "1704d1f3",
   "metadata": {},
   "outputs": [],
   "source": [
    "#delete? no\n"
   ]
  },
  {
   "cell_type": "code",
   "execution_count": 32,
   "id": "005a9b3a",
   "metadata": {},
   "outputs": [
    {
     "data": {
      "text/plain": [
       "1"
      ]
     },
     "execution_count": 32,
     "metadata": {},
     "output_type": "execute_result"
    }
   ],
   "source": [
    "T1={1,2,4,4,5}\n",
    "min(T1)"
   ]
  },
  {
   "cell_type": "code",
   "execution_count": 34,
   "id": "d13a663c",
   "metadata": {},
   "outputs": [
    {
     "data": {
      "text/plain": [
       "5"
      ]
     },
     "execution_count": 34,
     "metadata": {},
     "output_type": "execute_result"
    }
   ],
   "source": [
    "max(T1)"
   ]
  },
  {
   "cell_type": "code",
   "execution_count": 35,
   "id": "97c63770",
   "metadata": {},
   "outputs": [
    {
     "data": {
      "text/plain": [
       "12"
      ]
     },
     "execution_count": 35,
     "metadata": {},
     "output_type": "execute_result"
    }
   ],
   "source": [
    "sum(T1)"
   ]
  },
  {
   "cell_type": "code",
   "execution_count": 36,
   "id": "547ed02b",
   "metadata": {},
   "outputs": [
    {
     "data": {
      "text/plain": [
       "[1, 2, 4, 5]"
      ]
     },
     "execution_count": 36,
     "metadata": {},
     "output_type": "execute_result"
    }
   ],
   "source": [
    "sorted(T1)"
   ]
  },
  {
   "cell_type": "code",
   "execution_count": 39,
   "id": "fbac1e1e",
   "metadata": {},
   "outputs": [
    {
     "data": {
      "text/plain": [
       "[5, 4, 2, 1]"
      ]
     },
     "execution_count": 39,
     "metadata": {},
     "output_type": "execute_result"
    }
   ],
   "source": [
    "sorted(T1,reverse=True)"
   ]
  },
  {
   "cell_type": "markdown",
   "id": "5f56ee02",
   "metadata": {},
   "source": [
    "# tuples are read only data type"
   ]
  },
  {
   "cell_type": "code",
   "execution_count": null,
   "id": "0550bb40",
   "metadata": {},
   "outputs": [],
   "source": []
  }
 ],
 "metadata": {
  "kernelspec": {
   "display_name": "Python 3 (ipykernel)",
   "language": "python",
   "name": "python3"
  },
  "language_info": {
   "codemirror_mode": {
    "name": "ipython",
    "version": 3
   },
   "file_extension": ".py",
   "mimetype": "text/x-python",
   "name": "python",
   "nbconvert_exporter": "python",
   "pygments_lexer": "ipython3",
   "version": "3.10.1"
  }
 },
 "nbformat": 4,
 "nbformat_minor": 5
}
