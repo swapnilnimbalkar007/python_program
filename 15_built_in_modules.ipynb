{
 "cells": [
  {
   "cell_type": "markdown",
   "id": "32b8b601",
   "metadata": {},
   "source": [
    "# Built in modules "
   ]
  },
  {
   "cell_type": "markdown",
   "id": "7de9e088",
   "metadata": {},
   "source": [
    "# Module is same as Library"
   ]
  },
  {
   "cell_type": "code",
   "execution_count": 27,
   "id": "d96ae098",
   "metadata": {},
   "outputs": [
    {
     "name": "stdout",
     "output_type": "stream",
     "text": [
      "\n",
      "Please wait a moment while I gather a list of all available modules...\n",
      "\n",
      "IPython             colorsys            mimetypes           sspicon\n",
      "PIL                 comm                mistune             stack_data\n",
      "__future__          commctrl            mixer               stat\n",
      "__main__            compileall          mixer_music         statistics\n",
      "__pyinstaller       concurrent          mixer_music_tags    streamlit\n",
      "_abc                configparser        mixer_music_test    string\n",
      "_aix_support        constants           mixer_tags          stringprep\n",
      "_argon2_cffi_bindings constants_test      mixer_test          struct\n",
      "_ast                contextlib          ml_dtypes           subprocess\n",
      "_asyncio            contextvars         mmap                sunau\n",
      "_bisect             contourpy           mmapfile            surface\n",
      "_blake2             controller_test     mmsystem            surface_test\n",
      "_bootsubprocess     copy                modulefinder        surfarray\n",
      "_bz2                copyreg             mouse               surfarray_tags\n",
      "_camera             crypt               mouse_test          surfarray_test\n",
      "_camera_opencv      csv                 mpl_toolkits        surflock\n",
      "_camera_vidcapture  ctypes              msilib              surflock_test\n",
      "_cffi_backend       curses              msvcrt              symtable\n",
      "_codecs             cursors             multiprocessing     sys\n",
      "_codecs_cn          cursors_test        nbclassic           sysconfig\n",
      "_codecs_hk          cv2                 nbclient            sysfont\n",
      "_codecs_iso2022     cycler              nbconvert           sysfont_test\n",
      "_codecs_jp          dataclasses         nbformat            tabnanny\n",
      "_codecs_kr          datetime            nest_asyncio        tarfile\n",
      "_codecs_tw          dateutil            netbios             telnetlib\n",
      "_collections        dbi                 netrc               tempfile\n",
      "_collections_abc    dbm                 newbuffer           tenacity\n",
      "_compat_pickle      dde                 nntplib             tensorboard\n",
      "_compression        debugpy             notebook            tensorboard_data_server\n",
      "_contextvars        decimal             notebook_shim       tensorflow\n",
      "_csv                decorator           nt                  tensorflow_estimator\n",
      "_ctypes             defusedxml          ntpath              tensorflow_io_gcs_filesystem\n",
      "_ctypes_test        difflib             ntsecuritycon       termcolor\n",
      "_datetime           dis                 nturl2path          terminado\n",
      "_decimal            display             numbers             test\n",
      "_distutils_hack     display_test        numpy               test_test_\n",
      "_elementtree        distutils           oauthlib            test_utils\n",
      "_freetype           docs_test           odbc                tests\n",
      "_functools          doctest             opcode              textwrap\n",
      "_hashlib            draw                operator            this\n",
      "_heapq              draw_py             opt_einsum          threading\n",
      "_imp                draw_test           optparse            threadpoolctl\n",
      "_io                 email               os                  threads\n",
      "_json               encodings           packaging           threads_test\n",
      "_locale             ensurepip           pandas              time\n",
      "_lsprof             entrypoints         pandocfilters       time_test\n",
      "_lzma               enum                parso               timeit\n",
      "_markupbase         errno               pasta               timer\n",
      "_md5                event               pathlib             tinycss2\n",
      "_msi                event_test          pdb                 tkinter\n",
      "_multibytecodec     examples            perfmon             tlz\n",
      "_multiprocessing    executing           pickle              token\n",
      "_opcode             fastevent           pickleshare         tokenize\n",
      "_operator           fastjsonschema      pickletools         toml\n",
      "_osx_support        faulthandler        pip                 toolz\n",
      "_overlapped         filecmp             pipes               tornado\n",
      "_pickle             fileinput           pixelarray          touch_test\n",
      "_py_abc             flatbuffers         pixelarray_test     trace\n",
      "_pydecimal          fnmatch             pixelcopy           traceback\n",
      "_pyio               font                pixelcopy_test      tracemalloc\n",
      "_pyrsistent_version fontTools           pkg_resources       traitlets\n",
      "_queue              font_test           pkgdata             transform\n",
      "_random             fqdn                pkgutil             transform_test\n",
      "_sdl2               fractions           platform            tty\n",
      "_sha1               freetype            platformdirs        turtle\n",
      "_sha256             freetype_tags       plistlib            turtledemo\n",
      "_sha3               freetype_test       poplib              types\n",
      "_sha512             ftfont              posixpath           typing\n",
      "_signal             ftfont_tags         pprint              typing_extensions\n",
      "_sitebuiltins       ftfont_test         profile             tzdata\n",
      "_socket             ftplib              prometheus_client   tzlocal\n",
      "_sprite             functools           prompt_toolkit      unicodedata\n",
      "_sqlite3            gast                pstats              unittest\n",
      "_sre                gc                  psutil              uri_template\n",
      "_ssl                genericpath         pty                 urllib\n",
      "_stat               getopt              pure_eval           urllib3\n",
      "_statistics         getpass             pvectorc            uu\n",
      "_string             gettext             py_compile          uuid\n",
      "_strptime           gfxdraw             pyarrow             validators\n",
      "_struct             gfxdraw_test        pyasn1              venv\n",
      "_symtable           git                 pyasn1_modules      version\n",
      "_testbuffer         gitdb               pyclbr              version_test\n",
      "_testcapi           glob                pycparser           video_test\n",
      "_testconsole        google_auth_oauthlib pydeck              warnings\n",
      "_testimportmultiple graphlib            pydoc               watchdog\n",
      "_testinternalcapi   grpc                pydoc_data          wave\n",
      "_testmultiphase     gzip                pyexpat             wcwidth\n",
      "_thread             h5py                pygame              weakref\n",
      "_threading_local    hashlib             pygments            webbrowser\n",
      "_tkinter            heapq               pylab               webcolors\n",
      "_tracemalloc        hmac                pympler             webencodings\n",
      "_uuid               html                pyparsing           websocket\n",
      "_warnings           http                pypm                werkzeug\n",
      "_weakref            idlelib             pyrsistent          wheel\n",
      "_weakrefset         idna                pythoncom           widgetsnbextension\n",
      "_win32sysloader     image               pythonjsonlogger    win2kras\n",
      "_winapi             image__save_gl_surface_test pytz                win32api\n",
      "_winxptheme         image_tags          pywin               win32clipboard\n",
      "_xxsubinterpreters  image_test          pywin32_bootstrap   win32com\n",
      "_yaml               imageext            pywin32_testutil    win32con\n",
      "_zoneinfo           imageext_tags       pywintypes          win32console\n",
      "abc                 imageext_test       qtconsole           win32cred\n",
      "absl                imaplib             qtpy                win32crypt\n",
      "adodbapi            imghdr              queue               win32cryptcon\n",
      "afxres              imp                 quopri              win32event\n",
      "aifc                importlib           random              win32evtlog\n",
      "altair              importlib_metadata  rasutil             win32evtlogutil\n",
      "antigravity         inspect             re                  win32file\n",
      "anyio               io                  rect                win32gui\n",
      "argon2              ipaddress           rect_test           win32gui_struct\n",
      "argparse            ipykernel           regcheck            win32help\n",
      "array               ipykernel_launcher  regutil             win32inet\n",
      "arrow               ipython_genutils    reprlib             win32inetcon\n",
      "ast                 ipywidgets          requests            win32job\n",
      "asttokens           isapi               requests_oauthlib   win32lz\n",
      "astunparse          isoduration         rfc3339_validator   win32net\n",
      "asynchat            itertools           rfc3986_validator   win32netcon\n",
      "asyncio             jax                 rich                win32pdh\n",
      "asyncore            jedi                rlcompleter         win32pdhquery\n",
      "atexit              jinja2              rsa                 win32pdhutil\n",
      "attr                joblib              run_tests__tests    win32pipe\n",
      "attrs               joystick            runpy               win32print\n",
      "audioop             joystick_test       rwobject            win32process\n",
      "backcall            json                rwobject_test       win32profile\n",
      "base                jsonpointer         sched               win32ras\n",
      "base64              jsonschema          scipy               win32rcparser\n",
      "base_test           jupyter             scrap               win32security\n",
      "bdb                 jupyter_client      scrap_tags          win32service\n",
      "binascii            jupyter_console     scrap_test          win32serviceutil\n",
      "binhex              jupyter_core        seaborn             win32timezone\n",
      "bisect              jupyter_events      secrets             win32trace\n",
      "bleach              jupyter_server      select              win32traceutil\n",
      "blinker             jupyter_server_terminals selectors           win32transaction\n",
      "blit_test           jupyterlab_pygments send2trash          win32ts\n",
      "bs4                 jupyterlab_widgets  servicemanager      win32ui\n",
      "bufferproxy         keras               setuptools          win32uiole\n",
      "bufferproxy_test    key                 shelve              win32verstamp\n",
      "builtins            key_test            shlex               win32wnet\n",
      "bz2                 keyword             shutil              winerror\n",
      "cProfile            kiwisolver          signal              winioctlcon\n",
      "cachetools          lib2to3             site                winnt\n",
      "calendar            linecache           six                 winperf\n",
      "camera              locale              sklearn             winpty\n",
      "camera_test         locals              smmap               winreg\n",
      "certifi             logging             smtpd               winsound\n",
      "cffi                lzma                smtplib             winxpgui\n",
      "cgi                 macosx              sndarray            winxptheme\n",
      "cgitb               mailbox             sndarray_tags       wrapt\n",
      "charset_normalizer  mailcap             sndarray_test       wsgiref\n",
      "chunk               markdown            sndhdr              xdrlib\n",
      "clang               markdown_it         sniffio             xgboost\n",
      "click               markupsafe          socket              xml\n",
      "cmath               marshal             socketserver        xmlrpc\n",
      "cmd                 mask                soupsieve           xxsubtype\n",
      "code                mask_test           sprite              yaml\n",
      "codecs              math                sprite_test         zipapp\n",
      "codeop              math_test           sqlite3             zipfile\n",
      "collections         matplotlib          sre_compile         zipimport\n",
      "color               matplotlib_inline   sre_constants       zipp\n",
      "color_test          mdurl               sre_parse           zlib\n",
      "colorama            midi                ssl                 zmq\n",
      "colordict           midi_test           sspi                zoneinfo\n",
      "\n",
      "Enter any module name to get more help.  Or, type \"modules spam\" to search\n",
      "for modules whose name or summary contain the string \"spam\".\n",
      "\n"
     ]
    }
   ],
   "source": [
    "help('modules')"
   ]
  },
  {
   "cell_type": "markdown",
   "id": "098ab51d",
   "metadata": {},
   "source": [
    "# import math"
   ]
  },
  {
   "cell_type": "code",
   "execution_count": 5,
   "id": "6cdd03b4",
   "metadata": {},
   "outputs": [],
   "source": [
    "import math"
   ]
  },
  {
   "cell_type": "code",
   "execution_count": 6,
   "id": "ef5005f7",
   "metadata": {},
   "outputs": [
    {
     "data": {
      "text/plain": [
       "3.141592653589793"
      ]
     },
     "execution_count": 6,
     "metadata": {},
     "output_type": "execute_result"
    }
   ],
   "source": [
    "math.pi"
   ]
  },
  {
   "cell_type": "code",
   "execution_count": 7,
   "id": "ab9a774f",
   "metadata": {},
   "outputs": [
    {
     "data": {
      "text/plain": [
       "2.718281828459045"
      ]
     },
     "execution_count": 7,
     "metadata": {},
     "output_type": "execute_result"
    }
   ],
   "source": [
    "math.e"
   ]
  },
  {
   "cell_type": "code",
   "execution_count": 8,
   "id": "4f352dd7",
   "metadata": {},
   "outputs": [
    {
     "data": {
      "text/plain": [
       "120"
      ]
     },
     "execution_count": 8,
     "metadata": {},
     "output_type": "execute_result"
    }
   ],
   "source": [
    "math.factorial(5)"
   ]
  },
  {
   "cell_type": "markdown",
   "id": "f23c35a4",
   "metadata": {},
   "source": [
    "# import random"
   ]
  },
  {
   "cell_type": "code",
   "execution_count": 14,
   "id": "25113b3b",
   "metadata": {},
   "outputs": [],
   "source": [
    "import random"
   ]
  },
  {
   "cell_type": "code",
   "execution_count": 17,
   "id": "0ec5694b",
   "metadata": {},
   "outputs": [
    {
     "data": {
      "text/plain": [
       "71"
      ]
     },
     "execution_count": 17,
     "metadata": {},
     "output_type": "execute_result"
    }
   ],
   "source": [
    "random.randint(1,100)"
   ]
  },
  {
   "cell_type": "code",
   "execution_count": 18,
   "id": "af142560",
   "metadata": {},
   "outputs": [],
   "source": [
    "import time"
   ]
  },
  {
   "cell_type": "code",
   "execution_count": 23,
   "id": "702fc8d4",
   "metadata": {},
   "outputs": [
    {
     "data": {
      "text/plain": [
       "1703668533.5283947"
      ]
     },
     "execution_count": 23,
     "metadata": {},
     "output_type": "execute_result"
    }
   ],
   "source": [
    "time.time()"
   ]
  },
  {
   "cell_type": "code",
   "execution_count": 21,
   "id": "8a2c093f",
   "metadata": {},
   "outputs": [
    {
     "data": {
      "text/plain": [
       "'Wed Dec 27 14:45:10 2023'"
      ]
     },
     "execution_count": 21,
     "metadata": {},
     "output_type": "execute_result"
    }
   ],
   "source": [
    "#current time\n",
    "time.ctime()"
   ]
  },
  {
   "cell_type": "markdown",
   "id": "53402b94",
   "metadata": {},
   "source": [
    "# import os"
   ]
  },
  {
   "cell_type": "code",
   "execution_count": 24,
   "id": "19bb2b8f",
   "metadata": {},
   "outputs": [],
   "source": [
    "import os"
   ]
  },
  {
   "cell_type": "code",
   "execution_count": 26,
   "id": "8e985adf",
   "metadata": {},
   "outputs": [
    {
     "data": {
      "text/plain": [
       "['.ipynb_checkpoints',\n",
       " '01_first.ipynb',\n",
       " '02_data_types.ipynb',\n",
       " '03_Comments.ipynb',\n",
       " '04_variables .ipynb',\n",
       " '05_keywords.ipynb',\n",
       " '06_taking_user_inputand_typeconversion.ipynb',\n",
       " '07_literals .ipynb',\n",
       " '08_Operators.ipynb',\n",
       " '09_if-else_statement.ipynb',\n",
       " '10_Indentation.ipynb',\n",
       " '11_loop_01.ipynb',\n",
       " '11_loop_02.ipynb',\n",
       " '12_nested_loop.ipynb',\n",
       " '13_Break_Continue_Pass.ipynb',\n",
       " '14_functions.ipynb',\n",
       " '15_built_in_modules.ipynb',\n",
       " 'Guessing_game.ipynb']"
      ]
     },
     "execution_count": 26,
     "metadata": {},
     "output_type": "execute_result"
    }
   ],
   "source": [
    "#working directory\n",
    "os.listdir()"
   ]
  },
  {
   "cell_type": "code",
   "execution_count": null,
   "id": "d4002b3e",
   "metadata": {},
   "outputs": [],
   "source": []
  }
 ],
 "metadata": {
  "kernelspec": {
   "display_name": "Python 3 (ipykernel)",
   "language": "python",
   "name": "python3"
  },
  "language_info": {
   "codemirror_mode": {
    "name": "ipython",
    "version": 3
   },
   "file_extension": ".py",
   "mimetype": "text/x-python",
   "name": "python",
   "nbconvert_exporter": "python",
   "pygments_lexer": "ipython3",
   "version": "3.10.1"
  }
 },
 "nbformat": 4,
 "nbformat_minor": 5
}
